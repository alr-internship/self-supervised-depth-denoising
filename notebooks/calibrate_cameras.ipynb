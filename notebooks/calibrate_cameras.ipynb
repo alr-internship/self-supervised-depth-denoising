{
 "cells": [
  {
   "cell_type": "code",
   "execution_count": 1,
   "source": [
    "import numpy as np\n",
    "import cv2\n",
    "import cv2.aruco as aruco\n",
    "import pathlib\n",
    "\n",
    "\n",
    "def calibrate_charuco(dirpath, image_format, marker_length, square_length):\n",
    "    '''Apply camera calibration using aruco.\n",
    "    The dimensions are in cm.\n",
    "    '''\n",
    "    aruco_dict = aruco.Dictionary_get(aruco.DICT_4X4_1000) ### not sure about 1000\n",
    "    board = aruco.CharucoBoard_create(5, 7, square_length, marker_length, aruco_dict)\n",
    "    arucoParams = aruco.DetectorParameters_create()\n",
    "\n",
    "    counter, corners_list, id_list = [], [], []\n",
    "    img_dir = pathlib.Path(dirpath)\n",
    "    first = 0\n",
    "    # Find the ArUco markers inside each image\n",
    "    for img in img_dir.glob(f'*{image_format}'):\n",
    "        print(f'using image {img}')\n",
    "        image = cv2.imread(str(img))\n",
    "        img_gray = cv2.cvtColor(image, cv2.COLOR_BGR2GRAY)\n",
    "        corners, ids, rejected = aruco.detectMarkers(\n",
    "            img_gray, \n",
    "            aruco_dict, \n",
    "            parameters=arucoParams\n",
    "        )\n",
    "\n",
    "        resp, charuco_corners, charuco_ids = aruco.interpolateCornersCharuco(\n",
    "            markerCorners=corners,\n",
    "            markerIds=ids,\n",
    "            image=img_gray,\n",
    "            board=board\n",
    "        )\n",
    "        # If a Charuco board was found, let's collect image/corner points\n",
    "        # Requiring at least 20 squares\n",
    "        if resp > 20:\n",
    "            # Add these corners and ids to our calibration arrays\n",
    "            corners_list.append(charuco_corners)\n",
    "            id_list.append(charuco_ids)\n",
    "\n",
    "    # Actual calibration\n",
    "    ret, mtx, dist, rvecs, tvecs = aruco.calibrateCameraCharuco(\n",
    "        charucoCorners=corners_list, \n",
    "        charucoIds=id_list, \n",
    "        board=board, \n",
    "        imageSize=img_gray.shape, \n",
    "        cameraMatrix=None, \n",
    "        distCoeffs=None)\n",
    "    \n",
    "    return [ret, mtx, dist, rvecs, tvecs]"
   ],
   "outputs": [],
   "metadata": {}
  },
  {
   "cell_type": "markdown",
   "source": [
    "## Calibrate Images"
   ],
   "metadata": {}
  },
  {
   "cell_type": "code",
   "execution_count": null,
   "source": [
    "from charuco import calibrate_charuco\n",
    "from utils import load_coefficients, save_coefficients\n",
    "import cv2\n",
    "\n",
    "# Parameters\n",
    "IMAGES_DIR = 'path_to_images'\n",
    "IMAGES_FORMAT = 'jpg'\n",
    "# Dimensions in cm\n",
    "MARKER_LENGTH = 5.625\n",
    "SQUARE_LENGTH = 7.5\n",
    "\n",
    "\n",
    "# Calibrate \n",
    "ret, mtx, dist, rvecs, tvecs = calibrate_charuco(\n",
    "    IMAGES_DIR, \n",
    "    IMAGES_FORMAT,\n",
    "    MARKER_LENGTH,\n",
    "    SQUARE_LENGTH\n",
    ")\n",
    "# Save coefficients into a file\n",
    "save_coefficients(mtx, dist, \"calibration_charuco.yml\")\n",
    "\n",
    "# Load coefficients\n",
    "mtx, dist = load_coefficients('calibration_charuco.yml')\n",
    "original = cv2.imread('path_to_image')\n",
    "dst = cv2.undistort(original, mtx, dist, None, mtx)\n",
    "cv2.imwrite('undist_charuco.jpg', dst)"
   ],
   "outputs": [],
   "metadata": {}
  },
  {
   "cell_type": "markdown",
   "source": [
    "0.075 m\n",
    "4x4 aruco a 1/8 bzw 6/8 * 0.075 "
   ],
   "metadata": {}
  }
 ],
 "metadata": {
  "orig_nbformat": 4,
  "language_info": {
   "name": "python",
   "version": "3.7.12",
   "mimetype": "text/x-python",
   "codemirror_mode": {
    "name": "ipython",
    "version": 3
   },
   "pygments_lexer": "ipython3",
   "nbconvert_exporter": "python",
   "file_extension": ".py"
  },
  "kernelspec": {
   "name": "python3",
   "display_name": "Python 3.7.12 64-bit ('depth-denoising': conda)"
  },
  "interpreter": {
   "hash": "522bbe2e29048e488d8dbb591664569cb2f33d81832cd4a5c40bcbe436ad1b9e"
  }
 },
 "nbformat": 4,
 "nbformat_minor": 2
}