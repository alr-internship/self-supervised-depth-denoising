{
 "cells": [
  {
   "cell_type": "code",
   "execution_count": 58,
   "source": [
    "import numpy as np\n",
    "import cv2\n",
    "from cv2 import aruco\n",
    "import pathlib\n",
    "\n",
    "\n",
    "def calibrate_charuco(dirpath, image_format, marker_length, square_length):\n",
    "    '''Apply camera calibration using aruco.\n",
    "    The dimensions are in cm.\n",
    "    '''\n",
    "    aruco_dict = aruco.Dictionary_get(aruco.DICT_4X4_50) \n",
    "    board = aruco.CharucoBoard_create(5, 7, square_length, marker_length, aruco_dict)\n",
    "    arucoParams = aruco.DetectorParameters_create()\n",
    "\n",
    "    counter, corners_list, id_list = [], [], []\n",
    "    img_dir = pathlib.Path(dirpath)\n",
    "    first = 0\n",
    "    # Find the ArUco markers inside each image\n",
    "    for img in img_dir.glob(f'*{image_format}'):\n",
    "        print(f'using image {img}')\n",
    "        image = cv2.imread(str(img))\n",
    "        img_gray = cv2.cvtColor(image, cv2.COLOR_BGR2GRAY)\n",
    "        corners, ids, rejected = aruco.detectMarkers(\n",
    "            img_gray, \n",
    "            aruco_dict, \n",
    "            parameters=arucoParams\n",
    "        )\n",
    "\n",
    "        resp, charuco_corners, charuco_ids = aruco.interpolateCornersCharuco(\n",
    "            markerCorners=corners,\n",
    "            markerIds=ids,\n",
    "            image=img_gray,\n",
    "            board=board\n",
    "        )\n",
    "        # If a Charuco board was found, let's collect image/corner points\n",
    "        # Requiring at least 20 squares\n",
    "        if resp > 20:\n",
    "            # Add these corners and ids to our calibration arrays\n",
    "            corners_list.append(charuco_corners)\n",
    "            id_list.append(charuco_ids)\n",
    "\n",
    "    # Actual calibration\n",
    "    ret, mtx, dist, rvecs, tvecs = aruco.calibrateCameraCharuco(\n",
    "        charucoCorners=corners_list, \n",
    "        charucoIds=id_list, \n",
    "        board=board, \n",
    "        imageSize=img_gray.shape, \n",
    "        cameraMatrix=None, \n",
    "        distCoeffs=None)\n",
    "    \n",
    "    return [ret, mtx, dist, rvecs, tvecs]\n",
    "\n",
    "\n",
    "def save_coefficients(mtx, dist, tmat, path):\n",
    "    '''Save the camera matrix and the distortion coefficients to given path/file.'''\n",
    "    cv_file = cv2.FileStorage(path, cv2.FILE_STORAGE_WRITE)\n",
    "    cv_file.write('K', mtx)\n",
    "    cv_file.write('D', dist)\n",
    "    cv_file.write('T', tmat)\n",
    "    # note you *release* you don't close() a FileStorage object\n",
    "    cv_file.release()\n",
    "\n",
    "def load_coefficients(path):\n",
    "    '''Loads camera matrix and distortion coefficients.'''\n",
    "    # FILE_STORAGE_READ\n",
    "    cv_file = cv2.FileStorage(path, cv2.FILE_STORAGE_READ)\n",
    "\n",
    "    # note we also have to specify the type to retrieve other wise we only get a\n",
    "    # FileNode object back instead of a matrix\n",
    "    camera_matrix = cv_file.getNode('K').mat()\n",
    "    dist_matrix = cv_file.getNode('D').mat()\n",
    "    transf_matrix = cv_file.getNode('T').mat()\n",
    "\n",
    "    cv_file.release()\n",
    "    return [camera_matrix, dist_matrix, transf_matrix]"
   ],
   "outputs": [],
   "metadata": {}
  },
  {
   "cell_type": "code",
   "execution_count": 59,
   "source": [
    "def get_homogeneous(rvecs, tvecs):\n",
    "    hom = np.identity(4)\n",
    "    rmat, _ = cv2.Rodrigues(np.reshape(rvecs, -1))\n",
    "    hom[0:3, 0:3] = rmat\n",
    "    hom[0:3, 3] = np.squeeze(tvecs[0])\n",
    "    return hom"
   ],
   "outputs": [],
   "metadata": {}
  },
  {
   "cell_type": "markdown",
   "source": [
    "## Calibrate Images"
   ],
   "metadata": {}
  },
  {
   "cell_type": "code",
   "execution_count": 63,
   "source": [
    "from matplotlib import pyplot as plt\n",
    "\n",
    "# Parameters\n",
    "IMAGES_DIR_RS = '../resources/images/uncalibrated/realsense'\n",
    "IMAGES_DIR_ZIV = '../resources/images/uncalibrated/zivid'\n",
    "IMAGES_FORMAT = 'png'\n",
    "\n",
    "# Dimensions in cm\n",
    "MARKER_LENGTH = 5.625\n",
    "SQUARE_LENGTH = 7.5\n",
    "\n",
    "\n",
    "# Calibrate \n",
    "ret_rs, mtx_rs, dist_rs, rvecs_rs, tvecs_rs = calibrate_charuco(\n",
    "    IMAGES_DIR_RS, \n",
    "    IMAGES_FORMAT,\n",
    "    MARKER_LENGTH,\n",
    "    SQUARE_LENGTH\n",
    ")\n",
    "\n",
    "ret_ziv, mtx_ziv, dist_ziv, rvecs_ziv, tvecs_ziv = calibrate_charuco(\n",
    "    IMAGES_DIR_ZIV, \n",
    "    IMAGES_FORMAT,\n",
    "    MARKER_LENGTH,\n",
    "    SQUARE_LENGTH\n",
    ")\n",
    "\n",
    "# Calculate both homogenous transformation matrixes\n",
    "T_rs = get_homogeneous(rvecs_rs, tvecs_rs)\n",
    "T_ziv = get_homogeneous(rvecs_ziv, tvecs_ziv)\n",
    "\n",
    "\n",
    "\n",
    "# Save coefficients into a file\n",
    "save_coefficients(mtx_rs, dist_rs, T_rs, '../resources/calibrations/calibration_rs.yml')\n",
    "save_coefficients(mtx_ziv, dist_ziv, T_ziv, '../resources/calibrations/calibration_ziv.yml')\n",
    "\n",
    "# Load coefficients\n",
    "mtx_rs, dist_rs, tmat_rs = load_coefficients('../resources/calibrations/calibration_rs.yml')\n",
    "mtx_ziv, dist_ziv, tmat_ziv = load_coefficients('../resources/calibrations/calibration_ziv.yml')\n",
    "\n",
    "original = cv2.imread('../resources/images/uncalibrated/realsense/rl_color.png')\n",
    "\n",
    "dst = cv2.undistort(\n",
    "    original, mtx_rs, dist, None, mtx_rs\n",
    ")\n",
    "cv2.imwrite('../resources/images/calibrated/undist_rs.png', dst)\n"
   ],
   "outputs": [
    {
     "output_type": "stream",
     "name": "stdout",
     "text": [
      "using image ../resources/images/uncalibrated/realsense/rl_color.png\n",
      "using image ../resources/images/uncalibrated/zivid/rl_color.png\n"
     ]
    },
    {
     "output_type": "execute_result",
     "data": {
      "text/plain": [
       "True"
      ]
     },
     "metadata": {},
     "execution_count": 63
    }
   ],
   "metadata": {}
  },
  {
   "cell_type": "markdown",
   "source": [
    "0.075 m\n",
    "4x4 aruco a 1/8 bzw 6/8 * 0.075 "
   ],
   "metadata": {}
  }
 ],
 "metadata": {
  "orig_nbformat": 4,
  "language_info": {
   "name": "python",
   "version": "3.7.12",
   "mimetype": "text/x-python",
   "codemirror_mode": {
    "name": "ipython",
    "version": 3
   },
   "pygments_lexer": "ipython3",
   "nbconvert_exporter": "python",
   "file_extension": ".py"
  },
  "kernelspec": {
   "name": "python3",
   "display_name": "Python 3.7.12 64-bit ('depth-denoising': conda)"
  },
  "interpreter": {
   "hash": "522bbe2e29048e488d8dbb591664569cb2f33d81832cd4a5c40bcbe436ad1b9e"
  }
 },
 "nbformat": 4,
 "nbformat_minor": 2
}