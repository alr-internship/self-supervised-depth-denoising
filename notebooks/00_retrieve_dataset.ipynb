{
 "cells": [
  {
   "cell_type": "markdown",
   "metadata": {},
   "source": [
    "# Retrieve Dataset\n",
    "\n",
    "This notebook is used to collect a dataset.\n",
    "The dataset contains RGB and depth images of both cameras, zivid and realsense.\n",
    "\n",
    "Following cells are used to load all required modules and classes."
   ]
  },
  {
   "cell_type": "code",
   "execution_count": 1,
   "metadata": {},
   "outputs": [],
   "source": [
    "# import dependencies\n",
    "import time\n",
    "from pathlib import Path\n",
    "from tqdm import tqdm\n",
    "# import required modules\n",
    "from camera_interfaces.real_sense import RealSense\n",
    "from camera_interfaces.zivid import Zivid\n",
    "from dataset.dataset_interface import DatasetInterface"
   ]
  },
  {
   "cell_type": "markdown",
   "metadata": {},
   "source": [
    "## Configuration\n",
    "For the collection, both cameras will take images of the scene for X times.\n",
    "To configure this process a bit, following parameters are useful."
   ]
  },
  {
   "cell_type": "code",
   "execution_count": 13,
   "metadata": {},
   "outputs": [],
   "source": [
    "resource_path = Path(\"../resources\")\n",
    "\n",
    "class Args:\n",
    "    picture_amount = 100                  # how many frames to collect\n",
    "    delay = 3000                         # delay between exposures in ms\n",
    "args = Args()"
   ]
  },
  {
   "cell_type": "markdown",
   "metadata": {},
   "source": [
    "# Connect to cameras"
   ]
  },
  {
   "cell_type": "code",
   "execution_count": 3,
   "metadata": {},
   "outputs": [
    {
     "name": "stdout",
     "output_type": "stream",
     "text": [
      "=============================================================\n",
      "RealSense Configuration\n",
      "camera product line: D400\n",
      "camera product id:   0B07\n",
      "=============================================================\n",
      "Depth Camera Intrinsics\n",
      "Principal Point (ppx ppy):    635.5166625976562 359.2284851074219\n",
      "Focal Length (fx fy):         639.042724609375 639.042724609375\n",
      "Distortion Coeffs:            [0.0, 0.0, 0.0, 0.0, 0.0]\n",
      "Distortion Model:             distortion.brown_conrady\n",
      "HeightxWidth:                 720x1280\n",
      "Color Camera Intrinsics\n",
      "Principal Point (ppx ppy):    936.4846801757812 537.48779296875\n",
      "Focal Length (fx fy):         1377.6448974609375 1375.7239990234375\n",
      "Distortion Coeffs:            [0.0, 0.0, 0.0, 0.0, 0.0]\n",
      "Distortion Model:             distortion.inverse_brown_conrady\n",
      "HeightxWidth:                 1080x1920\n",
      "=============================================================\n",
      "Connected to realsense camera\n",
      "=============================================================\n",
      "Zivid Configuration\n",
      "Color Camera Intrinsics\n",
      "Principal Point (ppx ppy):    951.68 594.779\n",
      "Focal Length (fx fy):         2760.12 2759.78\n",
      "Distortion Coeffs:            [-2.73150e-01  3.54379e-01 -3.44441e-04  1.98413e-04 -3.22515e-01]\n",
      "=============================================================\n",
      "Connected to zivid camera\n",
      "manually configuring zivid camera settings\n",
      "Connected to both cameras\n"
     ]
    }
   ],
   "source": [
    "# make sure both instances are destroyed. Otherwise they are still connected to the cameras\n",
    "%reset_selective -f real_sense\n",
    "%reset_selective -f zivid\n",
    "# instantiate and connect to cameras\n",
    "real_sense = RealSense()\n",
    "real_sense.connect()\n",
    "print(\"Connected to realsense camera\")\n",
    "\n",
    "zivid = Zivid()\n",
    "zivid.connect()\n",
    "print(\"Connected to zivid camera\")\n",
    "zivid.configure_manual(resource_path / Path(\"capture_settings.yml\"))\n",
    "# zivid.configure_automatically()\n",
    "\n",
    "print(\"Connected to both cameras\")"
   ]
  },
  {
   "cell_type": "markdown",
   "metadata": {},
   "source": [
    "## Collect Pictures\n",
    "\n",
    "The `out_path` specifies the directory, the dataset files should be saved in.\n",
    "Every capture will be saved to that folder with the `time.time()` as file name.\n",
    "The last cell can be executed repeatingly to capture as many frames as required.\n",
    "The cell can also be stopped without a problem, as it directly saves the captured frames to the file system in each step."
   ]
  },
  {
   "cell_type": "code",
   "execution_count": 8,
   "metadata": {},
   "outputs": [],
   "source": [
    "out_path = resource_path / \"images/uncalibrated/dataset_1\""
   ]
  },
  {
   "cell_type": "code",
   "execution_count": 12,
   "metadata": {},
   "outputs": [
    {
     "name": "stderr",
     "output_type": "stream",
     "text": [
      "100%|██████████| 100/100 [08:44<00:00,  5.24s/it]\n"
     ]
    }
   ],
   "source": [
    "# execute this cell to generate and append pairs of images. The images won't be saved.\n",
    "for i in tqdm(range(args.picture_amount)):\n",
    "    file_path = out_path / str(time.time())\n",
    "    rs_rgb, rs_depth = real_sense.collect_frame()\n",
    "    zv_rgb, zv_depth = zivid.collect_frame()\n",
    "    DatasetInterface.save(rs_rgb, rs_depth, zv_rgb, zv_depth, mask=None, file_name=file_path)\n",
    "\n",
    "    if i + 1 == args.picture_amount:\n",
    "        time.sleep(args.delay / 1000.0)"
   ]
  }
 ],
 "metadata": {
  "interpreter": {
   "hash": "f6c772e1b5366734256a9870d5f099b9d4fdfd16c1a18810c4324b8e7acb8e99"
  },
  "kernelspec": {
   "display_name": "Python 3.8.12 64-bit",
   "name": "python3"
  },
  "language_info": {
   "codemirror_mode": {
    "name": "ipython",
    "version": 3
   },
   "file_extension": ".py",
   "mimetype": "text/x-python",
   "name": "python",
   "nbconvert_exporter": "python",
   "pygments_lexer": "ipython3",
   "version": "3.8.12"
  },
  "orig_nbformat": 4
 },
 "nbformat": 4,
 "nbformat_minor": 2
}
