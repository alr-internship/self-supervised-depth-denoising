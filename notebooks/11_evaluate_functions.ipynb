{
 "cells": [
  {
   "cell_type": "code",
   "execution_count": 5,
   "metadata": {},
   "outputs": [],
   "source": [
    "import sys\n",
    "sys.path.append(\"../src\")\n",
    "\n",
    "import logging\n",
    "from pathlib import Path\n",
    "import numpy as np\n",
    "import torch\n",
    "from natsort import natsorted\n",
    "from torch import nn\n",
    "from matplotlib import pyplot as plt\n",
    "from dataset.data_loading import BasicDataset\n",
    "from dataset.dataset_interface import DatasetInterface\n",
    "from networks.UNet.unet_model import UNet\n",
    "import open3d as o3d\n",
    "from utils.visualization_utils import visualize_depth, to_rgb\n",
    "from utils.transformation_utils import imgs_to_pcd, rs_ci, unnormalize_depth\n",
    "import yaml\n",
    "from utils.transformation_utils import imgs_to_pcd, pcd_to_imgs, rs_ci, zv_ci\n",
    "\n",
    "root_path = Path(\"../\")\n",
    "\n",
    "class Args:\n",
    "    image_path = root_path / \"resources/images/raw/ycb_video/10022022\"\n",
    "\n",
    "args = Args()\n",
    "debug = False\n",
    "\n",
    "transformation = np.array(\n",
    "    [[0.99807603, -0.01957923, -0.05882929,  0.17911331],\n",
    "        [0.0212527, 0.99938319, 0.02795643, -0.01932425],\n",
    "        [0.05824564, -0.02915292, 0.99787652, -0.03608739],\n",
    "        [0., 0., 0., 1.]]\n",
    ")\n",
    "\n",
    "files = DatasetInterface.get_files_by_path(args.image_path)"
   ]
  },
  {
   "cell_type": "code",
   "execution_count": 6,
   "metadata": {},
   "outputs": [
    {
     "name": "stdout",
     "output_type": "stream",
     "text": [
      "# total pixels: 1779977, # unique pixels: 461985\n"
     ]
    },
    {
     "ename": "KeyboardInterrupt",
     "evalue": "",
     "output_type": "error",
     "traceback": [
      "\u001b[0;31m---------------------------------------------------------------------------\u001b[0m",
      "\u001b[0;31mKeyboardInterrupt\u001b[0m                         Traceback (most recent call last)",
      "\u001b[0;32m/tmp/ipykernel_404912/1845640068.py\u001b[0m in \u001b[0;36m<module>\u001b[0;34m\u001b[0m\n\u001b[1;32m     17\u001b[0m \u001b[0;34m\u001b[0m\u001b[0m\n\u001b[1;32m     18\u001b[0m \u001b[0;31m# 3D to 2D\u001b[0m\u001b[0;34m\u001b[0m\u001b[0;34m\u001b[0m\u001b[0;34m\u001b[0m\u001b[0m\n\u001b[0;32m---> 19\u001b[0;31m \u001b[0mzv_rgb\u001b[0m\u001b[0;34m,\u001b[0m \u001b[0mzv_depth\u001b[0m\u001b[0;34m,\u001b[0m \u001b[0mul_corner\u001b[0m\u001b[0;34m,\u001b[0m \u001b[0mlr_corner\u001b[0m \u001b[0;34m=\u001b[0m \u001b[0mpcd_to_imgs\u001b[0m\u001b[0;34m(\u001b[0m\u001b[0mzv_pcd\u001b[0m\u001b[0;34m,\u001b[0m \u001b[0mrs_ci\u001b[0m\u001b[0;34m)\u001b[0m\u001b[0;34m\u001b[0m\u001b[0;34m\u001b[0m\u001b[0m\n\u001b[0m\u001b[1;32m     20\u001b[0m \u001b[0;34m\u001b[0m\u001b[0m\n\u001b[1;32m     21\u001b[0m \u001b[0mtest_pcd\u001b[0m \u001b[0;34m=\u001b[0m \u001b[0mimgs_to_pcd\u001b[0m\u001b[0;34m(\u001b[0m\u001b[0mzv_rgb\u001b[0m\u001b[0;34m,\u001b[0m \u001b[0mzv_depth\u001b[0m\u001b[0;34m,\u001b[0m \u001b[0mrs_ci\u001b[0m\u001b[0;34m)\u001b[0m\u001b[0;34m\u001b[0m\u001b[0;34m\u001b[0m\u001b[0m\n",
      "\u001b[0;32m~/self-supervised-depth-denoising/notebooks/../src/utils/transformation_utils.py\u001b[0m in \u001b[0;36mpcd_to_imgs\u001b[0;34m(pcd, ci, depth_scale)\u001b[0m\n\u001b[1;32m     65\u001b[0m     \u001b[0;32mfor\u001b[0m \u001b[0mi\u001b[0m \u001b[0;32min\u001b[0m \u001b[0mrange\u001b[0m\u001b[0;34m(\u001b[0m\u001b[0mlen\u001b[0m\u001b[0;34m(\u001b[0m\u001b[0mcounts\u001b[0m\u001b[0;34m)\u001b[0m\u001b[0;34m)\u001b[0m\u001b[0;34m:\u001b[0m\u001b[0;34m\u001b[0m\u001b[0;34m\u001b[0m\u001b[0m\n\u001b[1;32m     66\u001b[0m         \u001b[0;32mif\u001b[0m \u001b[0mcounts\u001b[0m\u001b[0;34m[\u001b[0m\u001b[0mi\u001b[0m\u001b[0;34m]\u001b[0m \u001b[0;34m!=\u001b[0m \u001b[0;36m1\u001b[0m\u001b[0;34m:\u001b[0m\u001b[0;34m\u001b[0m\u001b[0;34m\u001b[0m\u001b[0m\n\u001b[0;32m---> 67\u001b[0;31m             \u001b[0mindices\u001b[0m \u001b[0;34m=\u001b[0m \u001b[0;34m[\u001b[0m\u001b[0mj\u001b[0m \u001b[0;32mfor\u001b[0m \u001b[0mj\u001b[0m\u001b[0;34m,\u001b[0m \u001b[0mx\u001b[0m \u001b[0;32min\u001b[0m \u001b[0menumerate\u001b[0m\u001b[0;34m(\u001b[0m\u001b[0minv\u001b[0m\u001b[0;34m)\u001b[0m \u001b[0;32mif\u001b[0m \u001b[0mx\u001b[0m \u001b[0;34m==\u001b[0m \u001b[0mi\u001b[0m\u001b[0;34m]\u001b[0m\u001b[0;34m\u001b[0m\u001b[0;34m\u001b[0m\u001b[0m\n\u001b[0m\u001b[1;32m     68\u001b[0m             \u001b[0mdepths\u001b[0m\u001b[0;34m[\u001b[0m\u001b[0mindices\u001b[0m\u001b[0;34m]\u001b[0m \u001b[0;34m=\u001b[0m \u001b[0mnp\u001b[0m\u001b[0;34m.\u001b[0m\u001b[0mmin\u001b[0m\u001b[0;34m(\u001b[0m\u001b[0mdepths\u001b[0m\u001b[0;34m[\u001b[0m\u001b[0mindices\u001b[0m\u001b[0;34m]\u001b[0m\u001b[0;34m)\u001b[0m\u001b[0;34m\u001b[0m\u001b[0;34m\u001b[0m\u001b[0m\n\u001b[1;32m     69\u001b[0m \u001b[0;34m\u001b[0m\u001b[0m\n",
      "\u001b[0;32m~/self-supervised-depth-denoising/notebooks/../src/utils/transformation_utils.py\u001b[0m in \u001b[0;36m<listcomp>\u001b[0;34m(.0)\u001b[0m\n\u001b[1;32m     65\u001b[0m     \u001b[0;32mfor\u001b[0m \u001b[0mi\u001b[0m \u001b[0;32min\u001b[0m \u001b[0mrange\u001b[0m\u001b[0;34m(\u001b[0m\u001b[0mlen\u001b[0m\u001b[0;34m(\u001b[0m\u001b[0mcounts\u001b[0m\u001b[0;34m)\u001b[0m\u001b[0;34m)\u001b[0m\u001b[0;34m:\u001b[0m\u001b[0;34m\u001b[0m\u001b[0;34m\u001b[0m\u001b[0m\n\u001b[1;32m     66\u001b[0m         \u001b[0;32mif\u001b[0m \u001b[0mcounts\u001b[0m\u001b[0;34m[\u001b[0m\u001b[0mi\u001b[0m\u001b[0;34m]\u001b[0m \u001b[0;34m!=\u001b[0m \u001b[0;36m1\u001b[0m\u001b[0;34m:\u001b[0m\u001b[0;34m\u001b[0m\u001b[0;34m\u001b[0m\u001b[0m\n\u001b[0;32m---> 67\u001b[0;31m             \u001b[0mindices\u001b[0m \u001b[0;34m=\u001b[0m \u001b[0;34m[\u001b[0m\u001b[0mj\u001b[0m \u001b[0;32mfor\u001b[0m \u001b[0mj\u001b[0m\u001b[0;34m,\u001b[0m \u001b[0mx\u001b[0m \u001b[0;32min\u001b[0m \u001b[0menumerate\u001b[0m\u001b[0;34m(\u001b[0m\u001b[0minv\u001b[0m\u001b[0;34m)\u001b[0m \u001b[0;32mif\u001b[0m \u001b[0mx\u001b[0m \u001b[0;34m==\u001b[0m \u001b[0mi\u001b[0m\u001b[0;34m]\u001b[0m\u001b[0;34m\u001b[0m\u001b[0;34m\u001b[0m\u001b[0m\n\u001b[0m\u001b[1;32m     68\u001b[0m             \u001b[0mdepths\u001b[0m\u001b[0;34m[\u001b[0m\u001b[0mindices\u001b[0m\u001b[0;34m]\u001b[0m \u001b[0;34m=\u001b[0m \u001b[0mnp\u001b[0m\u001b[0;34m.\u001b[0m\u001b[0mmin\u001b[0m\u001b[0;34m(\u001b[0m\u001b[0mdepths\u001b[0m\u001b[0;34m[\u001b[0m\u001b[0mindices\u001b[0m\u001b[0;34m]\u001b[0m\u001b[0;34m)\u001b[0m\u001b[0;34m\u001b[0m\u001b[0;34m\u001b[0m\u001b[0m\n\u001b[1;32m     69\u001b[0m \u001b[0;34m\u001b[0m\u001b[0m\n",
      "\u001b[0;31mKeyboardInterrupt\u001b[0m: "
     ]
    }
   ],
   "source": [
    "idx = np.random.randint(len(files), size=1).item()\n",
    "rs_rgb, rs_depth, zv_rgb, zv_depth = DatasetInterface.load(files[idx])[:4]\n",
    "\n",
    "if debug:\n",
    "    rs_pcd = imgs_to_pcd(rs_rgb, rs_depth, rs_ci)\n",
    "# 2D to 3D\n",
    "zv_pcd = imgs_to_pcd(zv_rgb, zv_depth, zv_ci)\n",
    "\n",
    "if debug:\n",
    "    o3d.visualization.draw_geometries([zv_pcd, rs_pcd], \"raw pcds\")\n",
    "\n",
    "# transform\n",
    "zv_pcd.transform(transformation)\n",
    "\n",
    "if debug:\n",
    "    o3d.visualization.draw_geometries([zv_pcd, rs_pcd], \"calibrated pcds\")\n",
    "\n",
    "# 3D to 2D\n",
    "zv_rgb, zv_depth, ul_corner, lr_corner = pcd_to_imgs(zv_pcd, rs_ci)\n",
    "\n",
    "# test_pcd = imgs_to_pcd(zv_rgb, zv_depth, rs_ci)\n",
    "# o3d.visualization.draw_geometries([test_pcd], \"test pcds\")"
   ]
  },
  {
   "cell_type": "code",
   "execution_count": null,
   "metadata": {},
   "outputs": [],
   "source": []
  }
 ],
 "metadata": {
  "interpreter": {
   "hash": "74fb85e0692844650a49bfc07de46a4b1ed0f692bcbe75e652b7e4580e14e873"
  },
  "kernelspec": {
   "display_name": "Python 3.8.12 ('depth-denoising_training')",
   "language": "python",
   "name": "python3"
  },
  "language_info": {
   "codemirror_mode": {
    "name": "ipython",
    "version": 3
   },
   "file_extension": ".py",
   "mimetype": "text/x-python",
   "name": "python",
   "nbconvert_exporter": "python",
   "pygments_lexer": "ipython3",
   "version": "3.8.12"
  },
  "orig_nbformat": 4
 },
 "nbformat": 4,
 "nbformat_minor": 2
}
