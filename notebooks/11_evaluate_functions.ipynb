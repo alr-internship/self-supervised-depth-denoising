{
 "cells": [
  {
   "cell_type": "code",
   "execution_count": 2,
   "metadata": {},
   "outputs": [
    {
     "name": "stdout",
     "output_type": "stream",
     "text": [
      "Jupyter environment detected. Enabling Open3D WebVisualizer.\n",
      "[Open3D INFO] WebRTC GUI backend enabled.\n",
      "[Open3D INFO] WebRTCWindowSystem: HTTP handshake server disabled.\n"
     ]
    }
   ],
   "source": [
    "import sys\n",
    "sys.path.append(\"../src\")\n",
    "\n",
    "import logging\n",
    "from pathlib import Path\n",
    "import numpy as np\n",
    "import torch\n",
    "from natsort import natsorted\n",
    "from torch import nn\n",
    "from matplotlib import pyplot as plt\n",
    "from dataset.data_loading import BasicDataset\n",
    "from dataset.dataset_interface import DatasetInterface\n",
    "from networks.UNet.unet_model import UNet\n",
    "import open3d as o3d\n",
    "from utils.visualization_utils import visualize_depth, to_rgb\n",
    "from utils.transformation_utils import imgs_to_pcd, rs_ci, unnormalize_depth\n",
    "import yaml\n",
    "from utils.transformation_utils import imgs_to_pcd, pcd_to_imgs, pcd_to_imgs_old, rs_ci, zv_ci\n",
    "\n",
    "root_path = Path(\"../\")\n",
    "\n",
    "class Args:\n",
    "    image_path = root_path / \"resources/images/raw/ycb_video/10022022\"\n",
    "\n",
    "args = Args()\n",
    "debug = False\n",
    "\n",
    "transformation = np.array(\n",
    "    [[0.99807603, -0.01957923, -0.05882929,  0.17911331],\n",
    "        [0.0212527, 0.99938319, 0.02795643, -0.01932425],\n",
    "        [0.05824564, -0.02915292, 0.99787652, -0.03608739],\n",
    "        [0., 0., 0., 1.]]\n",
    ")\n",
    "\n",
    "files = DatasetInterface.get_files_by_path(args.image_path)"
   ]
  },
  {
   "cell_type": "code",
   "execution_count": 4,
   "metadata": {},
   "outputs": [
    {
     "name": "stdout",
     "output_type": "stream",
     "text": [
      "# total pixels: 1752845, # unique pixels: 447787\n"
     ]
    }
   ],
   "source": [
    "idx = np.random.randint(len(files), size=1).item()\n",
    "rs_rgb, rs_depth, zv_rgb, zv_depth = DatasetInterface.load(files[idx])[:4]\n",
    "\n",
    "if debug:\n",
    "    rs_pcd = imgs_to_pcd(rs_rgb, rs_depth, rs_ci)\n",
    "# 2D to 3D\n",
    "zv_pcd = imgs_to_pcd(zv_rgb, zv_depth, zv_ci)\n",
    "\n",
    "if debug:\n",
    "    o3d.visualization.draw_geometries([zv_pcd, rs_pcd], \"raw pcds\")\n",
    "\n",
    "# transform\n",
    "zv_pcd.transform(transformation)\n",
    "\n",
    "if debug:\n",
    "    o3d.visualization.draw_geometries([zv_pcd, rs_pcd], \"calibrated pcds\")\n",
    "\n",
    "# 3D to 2D\n",
    "zv_rgb, zv_depth, _, _ = pcd_to_imgs(zv_pcd, rs_ci)\n",
    "zv_rgb_old, zv_depth_old, _, _ = pcd_to_imgs_old(zv_pcd, rs_ci)\n",
    "\n",
    "zv_rgb[:] = (0,0,0)\n",
    "zv_rgb_old[:] = (0,255,0)\n",
    "\n",
    "test_pcd = imgs_to_pcd(zv_rgb, zv_depth, rs_ci)\n",
    "test_pcd_old = imgs_to_pcd(zv_rgb_old, zv_depth_old, rs_ci)\n",
    "o3d.visualization.draw_geometries([test_pcd_old,test_pcd], \"test pcds\")"
   ]
  },
  {
   "cell_type": "markdown",
   "metadata": {},
   "source": [
    "### Visualise image pairs"
   ]
  },
  {
   "cell_type": "code",
   "execution_count": 4,
   "metadata": {},
   "outputs": [],
   "source": [
    "files = DatasetInterface.get_files_by_path( root_path /'resources/images/calibrated_new/not-cropped/ycb_video/10022022')\n",
    "idx = np.random.randint(len(files), size=1).item()\n",
    "rs_rgb, rs_depth, zv_rgb, zv_depth = DatasetInterface.load(files[idx])[:4]\n",
    "zv_pcd = imgs_to_pcd(zv_rgb, zv_depth, rs_ci)\n",
    "rs_pcd = imgs_to_pcd(rs_rgb, rs_depth, rs_ci)\n",
    "o3d.visualization.draw_geometries([zv_pcd, rs_pcd], \"test pcds\")"
   ]
  },
  {
   "cell_type": "markdown",
   "metadata": {},
   "source": []
  }
 ],
 "metadata": {
  "interpreter": {
   "hash": "74fb85e0692844650a49bfc07de46a4b1ed0f692bcbe75e652b7e4580e14e873"
  },
  "kernelspec": {
   "display_name": "Python 3.8.12 ('depth-denoising_training')",
   "language": "python",
   "name": "python3"
  },
  "language_info": {
   "codemirror_mode": {
    "name": "ipython",
    "version": 3
   },
   "file_extension": ".py",
   "mimetype": "text/x-python",
   "name": "python",
   "nbconvert_exporter": "python",
   "pygments_lexer": "ipython3",
   "version": "3.8.12"
  },
  "orig_nbformat": 4
 },
 "nbformat": 4,
 "nbformat_minor": 2
}
