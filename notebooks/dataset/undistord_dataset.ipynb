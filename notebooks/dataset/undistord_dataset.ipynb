{
 "cells": [
  {
   "cell_type": "markdown",
   "metadata": {},
   "source": [
    "# Undistort Dataset"
   ]
  },
  {
   "cell_type": "code",
   "execution_count": 12,
   "metadata": {},
   "outputs": [],
   "source": [
    "class Args:\n",
    "    dataset_path = \"../../resources/images/uncalibrated/calibration_dataset.npz\"\n",
    "    calibration_matrix_path = \"../../resources/calibrations/calibration.yml\"\n",
    "args = Args()"
   ]
  },
  {
   "cell_type": "code",
   "execution_count": 13,
   "metadata": {},
   "outputs": [],
   "source": [
    "import sys\n",
    "sys.path.append(\"../../src\")"
   ]
  },
  {
   "cell_type": "code",
   "execution_count": 14,
   "metadata": {},
   "outputs": [],
   "source": [
    "from models.dataset.DatasetHelper import open_image_dataset_o3d, load_coefficients"
   ]
  },
  {
   "cell_type": "markdown",
   "metadata": {},
   "source": [
    "## Load dataset"
   ]
  },
  {
   "cell_type": "code",
   "execution_count": 15,
   "metadata": {},
   "outputs": [
    {
     "name": "stdout",
     "output_type": "stream",
     "text": [
      "Opened dataset containing 24 image sets\n"
     ]
    }
   ],
   "source": [
    "# Open Dataset and calibration file\n",
    "rgbd_rs_images, rgbd_zv_images = open_image_dataset_o3d(args.dataset_path)\n",
    "print(f\"Opened dataset containing {len(rgbd_rs_images)} image sets\")"
   ]
  },
  {
   "cell_type": "markdown",
   "metadata": {},
   "source": [
    "## Load coefficients"
   ]
  },
  {
   "cell_type": "code",
   "execution_count": 16,
   "metadata": {},
   "outputs": [],
   "source": [
    "coefficients = load_coefficients(path=args.calibration_matrix_path)"
   ]
  },
  {
   "cell_type": "code",
   "execution_count": 17,
   "metadata": {},
   "outputs": [
    {
     "ename": "KeyboardInterrupt",
     "evalue": "",
     "output_type": "error",
     "traceback": [
      "\u001b[0;31m---------------------------------------------------------------------------\u001b[0m",
      "\u001b[0;31mKeyboardInterrupt\u001b[0m                         Traceback (most recent call last)",
      "\u001b[0;32m/tmp/ipykernel_46394/3657475000.py\u001b[0m in \u001b[0;36m<module>\u001b[0;34m\u001b[0m\n\u001b[1;32m      6\u001b[0m \u001b[0;32mfor\u001b[0m \u001b[0mrgbd_rs_image\u001b[0m \u001b[0;32min\u001b[0m \u001b[0mrgbd_rs_images\u001b[0m\u001b[0;34m:\u001b[0m\u001b[0;34m\u001b[0m\u001b[0;34m\u001b[0m\u001b[0m\n\u001b[1;32m      7\u001b[0m     \u001b[0mpc_rs\u001b[0m \u001b[0;34m=\u001b[0m \u001b[0mo3d\u001b[0m\u001b[0;34m.\u001b[0m\u001b[0mgeometry\u001b[0m\u001b[0;34m.\u001b[0m\u001b[0mPointCloud\u001b[0m\u001b[0;34m.\u001b[0m\u001b[0mcreate_from_rgbd_image\u001b[0m\u001b[0;34m(\u001b[0m\u001b[0mrgbd_rs_image\u001b[0m\u001b[0;34m,\u001b[0m \u001b[0mcam\u001b[0m\u001b[0;34m)\u001b[0m\u001b[0;34m\u001b[0m\u001b[0;34m\u001b[0m\u001b[0m\n\u001b[0;32m----> 8\u001b[0;31m     \u001b[0mo3d\u001b[0m\u001b[0;34m.\u001b[0m\u001b[0mvisualization\u001b[0m\u001b[0;34m.\u001b[0m\u001b[0mdraw_geometries\u001b[0m\u001b[0;34m(\u001b[0m\u001b[0;34m[\u001b[0m\u001b[0mpc_rs\u001b[0m\u001b[0;34m]\u001b[0m\u001b[0;34m)\u001b[0m\u001b[0;34m\u001b[0m\u001b[0;34m\u001b[0m\u001b[0m\n\u001b[0m",
      "\u001b[0;31mKeyboardInterrupt\u001b[0m: "
     ]
    }
   ],
   "source": [
    "import open3d as o3d\n",
    "mesh = o3d.geometry.TriangleMesh.create_coordinate_frame()\n",
    "cam = o3d.camera.PinholeCameraIntrinsic()\n",
    "cam.intrinsic_matrix = [[500, 0.0, 0.0], [0.0, 918.8529534152894, 0.0], [959.5, 530.0, 1.0]]\n",
    "\n",
    "for rgbd_rs_image in rgbd_rs_images:\n",
    "    pc_rs = o3d.geometry.PointCloud.create_from_rgbd_image(rgbd_rs_image, cam)\n",
    "    o3d.visualization.draw_geometries([pc_rs])"
   ]
  }
 ],
 "metadata": {
  "interpreter": {
   "hash": "bd4206aa27b30d13b75c80133c0a4c7fea90a7d1276f759f57caf3101ae8a0ae"
  },
  "kernelspec": {
   "display_name": "Python 3.8.12 64-bit ('depth-denoising_dataset': conda)",
   "name": "python3"
  },
  "language_info": {
   "name": "python",
   "version": ""
  },
  "orig_nbformat": 4
 },
 "nbformat": 4,
 "nbformat_minor": 2
}