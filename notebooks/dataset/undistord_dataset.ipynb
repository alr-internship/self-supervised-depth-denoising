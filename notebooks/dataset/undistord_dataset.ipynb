{
 "cells": [
  {
   "cell_type": "markdown",
   "source": [
    "# Undistort Dataset"
   ],
   "metadata": {}
  },
  {
   "cell_type": "code",
   "execution_count": 8,
   "source": [
    "class Args:\n",
    "    dataset_path = \"../../resources/images/uncalibrated/calibration_dataset.npz\"\n",
    "    calibration_matrix_path = \"../../resources/calibrations/calibration.yml\"\n",
    "args = Args()"
   ],
   "outputs": [],
   "metadata": {}
  },
  {
   "cell_type": "code",
   "execution_count": 5,
   "source": [
    "import sys\n",
    "sys.path.append(\"../../src\")"
   ],
   "outputs": [],
   "metadata": {}
  },
  {
   "cell_type": "code",
   "execution_count": 6,
   "source": [
    "from models.dataset.DatasetHelper import open_image_dataset_o3d, load_coefficients"
   ],
   "outputs": [],
   "metadata": {}
  },
  {
   "cell_type": "markdown",
   "source": [
    "## Load dataset"
   ],
   "metadata": {}
  },
  {
   "cell_type": "code",
   "execution_count": 9,
   "source": [
    "# Open Dataset and calibration file\n",
    "rgbd_rs_images, rgbd_zv_images = open_image_dataset_o3d(args.dataset_path)\n",
    "print(f\"Opened dataset containing {len(rgbd_rs_images)} image sets\")"
   ],
   "outputs": [
    {
     "output_type": "stream",
     "name": "stdout",
     "text": [
      "Opened dataset containing 24 image sets\n"
     ]
    }
   ],
   "metadata": {}
  },
  {
   "cell_type": "markdown",
   "source": [
    "## Load coefficients"
   ],
   "metadata": {}
  },
  {
   "cell_type": "code",
   "execution_count": 10,
   "source": [
    "coefficients = load_coefficients(path=args.calibration_matrix_path)"
   ],
   "outputs": [],
   "metadata": {}
  },
  {
   "cell_type": "markdown",
   "source": [
    "## Transform Realsense ply to o3d mesh"
   ],
   "metadata": {}
  },
  {
   "cell_type": "code",
   "execution_count": 13,
   "source": [
    "import open3d as o3d\n",
    "\n",
    "mesh = o3d.io.read_point_cloud(\"../../resources/images/uncalibrated/realsense/0.ply\")\n",
    "# o3d.visualization.draw_geometries([mesh])\n",
    "undistored_mesh = mesh.transform(coefficients)\n",
    "o3d.visualization.draw_geometries([mesh])"
   ],
   "outputs": [],
   "metadata": {}
  },
  {
   "cell_type": "markdown",
   "source": [
    "## Transform Zivid ply to o3d mesh"
   ],
   "metadata": {}
  },
  {
   "cell_type": "code",
   "execution_count": 30,
   "source": [
    "from matplotlib import pyplot as plt\n",
    "import numpy as np\n",
    "from zivid import PointCloud\n",
    "\n",
    "def display_rgb(rgb, title=\"RGB image\"):\n",
    "    \"\"\"Display RGB image.\n",
    "    Args:\n",
    "        rgb: RGB image (HxWx3 darray)\n",
    "        title: Image title\n",
    "    Returns None\n",
    "    \"\"\"\n",
    "    plt.figure()\n",
    "    plt.imshow(rgb)\n",
    "    plt.title(title)\n",
    "    plt.show(block=False)\n",
    "\n",
    "\n",
    "def display_depthmap(xyz):\n",
    "    \"\"\"Create and display depthmap.\n",
    "    Args:\n",
    "        xyz: X, Y and Z images (point cloud co-ordinates)\n",
    "    Returns None\n",
    "    \"\"\"\n",
    "    plt.figure()\n",
    "    plt.imshow(\n",
    "        xyz[:, :, 2],\n",
    "        vmin=np.nanmin(xyz[:, :, 2]),\n",
    "        vmax=np.nanmax(xyz[:, :, 2]),\n",
    "        cmap=\"viridis\",\n",
    "    )\n",
    "    plt.colorbar()\n",
    "    plt.title(\"Depth map\")\n",
    "    plt.show(block=False)\n",
    "\n",
    "\n",
    "def display_pointcloud(xyz, rgb, normals=None):\n",
    "    \"\"\"Display point cloud provided from 'xyz' with colors from 'rgb'.\n",
    "    Args:\n",
    "        rgb: RGB image\n",
    "        xyz: X, Y and Z images (point cloud co-ordinates)\n",
    "        normals: ordered array of normal vectors, mapped to xyz\n",
    "    Returns None\n",
    "    \"\"\"\n",
    "    xyz = np.nan_to_num(xyz).reshape(-1, 3)\n",
    "    rgb = rgb.reshape(-1, 3)\n",
    "\n",
    "    point_cloud_open3d = o3d.geometry.PointCloud(o3d.utility.Vector3dVector(xyz))\n",
    "    point_cloud_open3d.colors = o3d.utility.Vector3dVector(rgb / 255)\n",
    "    if normals is not None:\n",
    "        normals = np.nan_to_num(normals).reshape(-1, 3)\n",
    "        point_cloud_open3d.normals = o3d.utility.Vector3dVector(normals)\n",
    "        print(\"Open 3D controls:\")\n",
    "        print(\"  n: for normals\")\n",
    "        print(\"  9: for point cloud colored by normals\")\n",
    "        print(\"  h: for all controls\")\n",
    "\n",
    "    return point_cloud_open3d\n",
    "\n",
    "    visualizer = o3d.visualization.Visualizer()  # pylint: disable=no-member\n",
    "    visualizer.create_window()\n",
    "    visualizer.add_geometry(point_cloud_open3d)\n",
    "\n",
    "    if normals is None:\n",
    "        visualizer.get_render_option().background_color = (0, 0, 0)\n",
    "    visualizer.get_render_option().point_size = 1\n",
    "    visualizer.get_render_option().show_coordinate_frame = True\n",
    "    visualizer.get_view_control().set_front([0, 0, -1])\n",
    "    visualizer.get_view_control().set_up([0, -1, 0])\n",
    "\n",
    "    visualizer.run()\n",
    "    visualizer.destroy_window()\n",
    "\n",
    "\n",
    "def display_pointcloud_with_downsampled_normals(point_cloud: PointCloud, downsampling: PointCloud.Downsampling):\n",
    "    \"\"\"Display point cloud with downsampled normals\n",
    "    Args:\n",
    "        point_cloud: a Zivid point cloud handle\n",
    "        downsampling: a valid Zivid downsampling factor to apply to normals\n",
    "    Returns None\n",
    "    \"\"\"\n",
    "    rgb = point_cloud.copy_data(\"rgba\")[:, :, :3]\n",
    "    xyz = point_cloud.copy_data(\"xyz\")\n",
    "    point_cloud.downsample(downsampling)\n",
    "    normals = point_cloud.copy_data(\"normals\")\n",
    "\n",
    "    display_pointcloud(xyz=xyz, rgb=rgb, normals=normals)"
   ],
   "outputs": [],
   "metadata": {}
  },
  {
   "cell_type": "code",
   "execution_count": 34,
   "source": [
    "import zivid\n",
    "\n",
    "app = zivid.Application()\n",
    "filename_zdf = \"../../resources/images/uncalibrated/zivid/6.zdf\"\n",
    "frame = zivid.Frame(filename_zdf)\n",
    "point_cloud = frame.point_cloud()\n",
    "xyz = point_cloud.copy_data(\"xyz\")\n",
    "rgba = point_cloud.copy_data(\"rgba\")\n",
    "\n",
    "# display_rgb(rgba[:, :, 0:3])\n",
    "\n",
    "# display_depthmap(xyz)\n",
    "\n",
    "zivid_pointcloud = display_pointcloud(xyz, rgba[:, :, 0:3])\n",
    "undistored_mesh = zivid_pointcloud.transform(coefficients)\n",
    "visualizer = o3d.visualization.Visualizer()  # pylint: disable=no-member\n",
    "visualizer.create_window()\n",
    "visualizer.add_geometry(undistored_mesh)\n",
    "\n",
    "visualizer.get_render_option().background_color = (0, 0, 0)\n",
    "visualizer.get_render_option().point_size = 1\n",
    "visualizer.get_render_option().show_coordinate_frame = True\n",
    "visualizer.get_view_control().set_front([0, 0, -1])\n",
    "visualizer.get_view_control().set_up([0, -1, 0])\n",
    "\n",
    "visualizer.run()\n",
    "visualizer.destroy_window()"
   ],
   "outputs": [],
   "metadata": {}
  },
  {
   "cell_type": "code",
   "execution_count": 17,
   "source": [
    "import open3d as o3d\n",
    "mesh = o3d.geometry.TriangleMesh.create_coordinate_frame()\n",
    "cam = o3d.camera.PinholeCameraIntrinsic()\n",
    "cam.intrinsic_matrix = [[500, 0.0, 0.0], [0.0, 918.8529534152894, 0.0], [959.5, 530.0, 1.0]]\n",
    "\n",
    "for rgbd_rs_image in rgbd_rs_images:\n",
    "    pc_rs = o3d.geometry.PointCloud.create_from_rgbd_image(rgbd_rs_image, cam)\n",
    "    o3d.visualization.draw_geometries([pc_rs])"
   ],
   "outputs": [
    {
     "output_type": "error",
     "ename": "KeyboardInterrupt",
     "evalue": "",
     "traceback": [
      "\u001b[0;31m---------------------------------------------------------------------------\u001b[0m",
      "\u001b[0;31mKeyboardInterrupt\u001b[0m                         Traceback (most recent call last)",
      "\u001b[0;32m/tmp/ipykernel_46394/3657475000.py\u001b[0m in \u001b[0;36m<module>\u001b[0;34m\u001b[0m\n\u001b[1;32m      6\u001b[0m \u001b[0;32mfor\u001b[0m \u001b[0mrgbd_rs_image\u001b[0m \u001b[0;32min\u001b[0m \u001b[0mrgbd_rs_images\u001b[0m\u001b[0;34m:\u001b[0m\u001b[0;34m\u001b[0m\u001b[0;34m\u001b[0m\u001b[0m\n\u001b[1;32m      7\u001b[0m     \u001b[0mpc_rs\u001b[0m \u001b[0;34m=\u001b[0m \u001b[0mo3d\u001b[0m\u001b[0;34m.\u001b[0m\u001b[0mgeometry\u001b[0m\u001b[0;34m.\u001b[0m\u001b[0mPointCloud\u001b[0m\u001b[0;34m.\u001b[0m\u001b[0mcreate_from_rgbd_image\u001b[0m\u001b[0;34m(\u001b[0m\u001b[0mrgbd_rs_image\u001b[0m\u001b[0;34m,\u001b[0m \u001b[0mcam\u001b[0m\u001b[0;34m)\u001b[0m\u001b[0;34m\u001b[0m\u001b[0;34m\u001b[0m\u001b[0m\n\u001b[0;32m----> 8\u001b[0;31m     \u001b[0mo3d\u001b[0m\u001b[0;34m.\u001b[0m\u001b[0mvisualization\u001b[0m\u001b[0;34m.\u001b[0m\u001b[0mdraw_geometries\u001b[0m\u001b[0;34m(\u001b[0m\u001b[0;34m[\u001b[0m\u001b[0mpc_rs\u001b[0m\u001b[0;34m]\u001b[0m\u001b[0;34m)\u001b[0m\u001b[0;34m\u001b[0m\u001b[0;34m\u001b[0m\u001b[0m\n\u001b[0m",
      "\u001b[0;31mKeyboardInterrupt\u001b[0m: "
     ]
    }
   ],
   "metadata": {}
  }
 ],
 "metadata": {
  "interpreter": {
   "hash": "f6c772e1b5366734256a9870d5f099b9d4fdfd16c1a18810c4324b8e7acb8e99"
  },
  "kernelspec": {
   "name": "python3",
   "display_name": "Python 3.8.12 64-bit ('depth-denoising_dataset': conda)"
  },
  "language_info": {
   "name": "python",
   "version": "3.8.12",
   "mimetype": "text/x-python",
   "codemirror_mode": {
    "name": "ipython",
    "version": 3
   },
   "pygments_lexer": "ipython3",
   "nbconvert_exporter": "python",
   "file_extension": ".py"
  },
  "orig_nbformat": 4
 },
 "nbformat": 4,
 "nbformat_minor": 2
}