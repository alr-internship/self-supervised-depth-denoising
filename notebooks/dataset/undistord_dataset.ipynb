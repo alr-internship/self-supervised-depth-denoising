{
 "cells": [
  {
   "cell_type": "markdown",
   "metadata": {},
   "source": [
    "# Undistort Dataset"
   ]
  },
  {
   "cell_type": "code",
   "execution_count": 1,
   "metadata": {},
   "outputs": [],
   "source": [
    "class Args:\n",
    "    uncalibrated_dataset_path = \"../../resources/images/uncalibrated/calibration_dataset.npz\"\n",
    "    calibrated_dataset_path = \"../../resources/images/calibrated/dataset_1.npz\"\n",
    "    calibration_matrix_path = \"../../resources/calibrations/calibration.yml\"\n",
    "args = Args()"
   ]
  },
  {
   "cell_type": "code",
   "execution_count": 2,
   "metadata": {},
   "outputs": [],
   "source": [
    "from models.dataset.DatasetHelper import openImageDataset, saveImageDataset, load_coefficients\n",
    "from models.dataset.undistort import undistort_images"
   ]
  },
  {
   "cell_type": "code",
   "execution_count": 3,
   "metadata": {},
   "outputs": [
    {
     "name": "stdout",
     "output_type": "stream",
     "text": [
      "Opened dataset containing 24 image sets\n",
      "Transformation matrix loaded:\n",
      "[[ 6.28295449e-01 -1.55602841e-01 -2.04399827e-02  8.77084748e+01]\n",
      " [ 3.55724022e-02  9.00372850e-01 -1.68263636e-01 -9.98329375e+01]\n",
      " [ 1.60071381e-02  1.32399997e-01  5.86407508e-01  3.01591741e+01]\n",
      " [ 0.00000000e+00  0.00000000e+00  0.00000000e+00  1.00000000e+00]]\n"
     ]
    }
   ],
   "source": [
    "# Open Dataset and calibration file\n",
    "rs_rgb, rs_z, zv_rgb, zv_z = openImageDataset(args.uncalibrated_dataset_path)\n",
    "print(f\"Opened dataset containing {len(rs_rgb)} image sets\")\n",
    "\n",
    "## Load Coefficients\n",
    "transformation_matrix = load_coefficients(path=args.calibration_matrix_path)\n",
    "print(f\"Transformation matrix loaded:\\n{transformation_matrix}\")\n",
    "\n",
    "## Undistort Images\n",
    "zv_undistort_z, zv_undistort_rgb = undistort_images(zv_z, zv_rgb, transformation_matrix)\n",
    "\n",
    "## save image dataset\n",
    "saveImageDataset(\n",
    "    args.calibrated_dataset_path,\n",
    "    rs_rgb,\n",
    "    rs_z,\n",
    "    zv_undistort_rgb,\n",
    "    zv_undistort_z\n",
    ")"
   ]
  }
 ],
 "metadata": {
  "interpreter": {
   "hash": "f6c772e1b5366734256a9870d5f099b9d4fdfd16c1a18810c4324b8e7acb8e99"
  },
  "kernelspec": {
   "display_name": "Python 3.8.12 64-bit ('depth-denoising_dataset': conda)",
   "name": "python3"
  },
  "language_info": {
   "codemirror_mode": {
    "name": "ipython",
    "version": 3
   },
   "file_extension": ".py",
   "mimetype": "text/x-python",
   "name": "python",
   "nbconvert_exporter": "python",
   "pygments_lexer": "ipython3",
   "version": "3.8.12"
  },
  "orig_nbformat": 4
 },
 "nbformat": 4,
 "nbformat_minor": 2
}
