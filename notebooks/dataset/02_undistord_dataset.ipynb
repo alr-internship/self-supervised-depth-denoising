{
 "cells": [
  {
   "cell_type": "markdown",
   "metadata": {},
   "source": [
    "# Undistort Dataset"
   ]
  },
  {
   "cell_type": "code",
   "execution_count": 17,
   "metadata": {},
   "outputs": [],
   "source": [
    "class Args:\n",
    "    uncalibrated_dataset_path = \"../../resources/images/uncalibrated/calibration_dataset.npz\"\n",
    "    calibrated_dataset_path = \"../../resources/images/calibrated/dataset_1.npz\"\n",
    "    calibration_file_path = \"../../resources/calibrations/calibration.yml\"\n",
    "args = Args()"
   ]
  },
  {
   "cell_type": "code",
   "execution_count": 18,
   "metadata": {},
   "outputs": [],
   "source": [
    "from models.dataset.dataset_interface import open_dataset, save_dataset\n",
    "from models.calibration.calibration import StereoCalibration\n",
    "from tqdm import tqdm"
   ]
  },
  {
   "cell_type": "markdown",
   "metadata": {},
   "source": [
    "## Actual Undistortion of all images"
   ]
  },
  {
   "cell_type": "code",
   "execution_count": 19,
   "metadata": {},
   "outputs": [
    {
     "name": "stdout",
     "output_type": "stream",
     "text": [
      "Opened dataset containing 24 image sets\n",
      "Calibration loaded:\n",
      "../../resources/calibrations/calibration.yml\n"
     ]
    },
    {
     "name": "stderr",
     "output_type": "stream",
     "text": [
      "remap tuples: 24it [00:00, 93.57it/s]\n"
     ]
    },
    {
     "name": "stdout",
     "output_type": "stream",
     "text": [
      "Remapped all images\n",
      "saved undistorted images in ../../resources/images/calibrated/dataset_1.npz\n"
     ]
    }
   ],
   "source": [
    "# Open Dataset and calibration file\n",
    "rs_rgb, rs_z, rs_cm, rs_dc, zv_rgb, zv_z, zv_cm, zv_dc = open_dataset(args.uncalibrated_dataset_path)\n",
    "print(zv_cm)\n",
    "print(zv_dc)\n",
    "print(f\"Opened dataset containing {len(rs_rgb)} image sets\")\n",
    "\n",
    "## Load Coefficients\n",
    "calibration = StereoCalibration()\n",
    "calibration.load_calibration(path=args.calibration_file_path)\n",
    "print(f\"Calibration loaded:\\n{args.calibration_file_path}\")\n",
    "\n",
    "## Undistort Images\n",
    "undistorted_rs_rgb = []\n",
    "undistorted_rs_depth = []\n",
    "undistorted_zv_rgb = []\n",
    "undistorted_zv_depth = []\n",
    "for rs_rgb_img, rs_depth_img, zv_rgb_img, zv_depth_img in tqdm(zip(rs_rgb, rs_z, zv_rgb, zv_z), desc='remap tuples'):\n",
    "    rs_rgb_img, zv_rgb_img = calibration.remap(rs_rgb_img, zv_rgb_img)\n",
    "    rs_depth_img, zv_depth_img = calibration.remap(rs_depth_img, zv_depth_img)\n",
    "    undistorted_rs_rgb.append(rs_rgb_img)\n",
    "    undistorted_rs_depth.append(rs_rgb_img)\n",
    "    undistorted_zv_rgb.append(zv_rgb_img)\n",
    "    undistorted_zv_depth.append(zv_depth_img)\n",
    "\n",
    "print(\"Remapped all images\")\n",
    "\n",
    "## save image dataset\n",
    "save_dataset(\n",
    "    args.calibrated_dataset_path,\n",
    "    undistorted_rs_rgb,\n",
    "    undistorted_rs_depth,\n",
    "    rs_cm,\n",
    "    rs_dc,\n",
    "    undistorted_zv_rgb,\n",
    "    undistorted_zv_depth,\n",
    "    zv_cm,\n",
    "    zv_dc\n",
    ")\n",
    "\n",
    "print(f\"saved undistorted images in {args.calibrated_dataset_path}\")"
   ]
  }
 ],
 "metadata": {
  "interpreter": {
   "hash": "f6c772e1b5366734256a9870d5f099b9d4fdfd16c1a18810c4324b8e7acb8e99"
  },
  "kernelspec": {
   "display_name": "Python 3.8.12 64-bit ('depth-denoising_dataset': conda)",
   "name": "python3"
  },
  "language_info": {
   "codemirror_mode": {
    "name": "ipython",
    "version": 3
   },
   "file_extension": ".py",
   "mimetype": "text/x-python",
   "name": "python",
   "nbconvert_exporter": "python",
   "pygments_lexer": "ipython3",
   "version": "3.8.12"
  },
  "orig_nbformat": 4
 },
 "nbformat": 4,
 "nbformat_minor": 2
}
