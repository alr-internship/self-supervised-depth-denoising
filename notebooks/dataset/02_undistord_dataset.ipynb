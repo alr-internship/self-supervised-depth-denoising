{
 "cells": [
  {
   "cell_type": "markdown",
   "metadata": {},
   "source": [
    "# Undistort Dataset"
   ]
  },
  {
   "cell_type": "code",
   "execution_count": 2,
   "metadata": {},
   "outputs": [],
   "source": [
    "from models.dataset.dataset_container import DatasetContainer\n",
    "from tqdm import tqdm\n",
    "from pathlib import Path"
   ]
  },
  {
   "cell_type": "code",
   "execution_count": 3,
   "metadata": {},
   "outputs": [],
   "source": [
    "resource_path = Path(\"../../resources\")\n",
    "\n",
    "class Args:\n",
    "    uncalibrated_dataset_path = resource_path / \"images/uncalibrated/old/dataset_1.npz\"\n",
    "    calibrated_dataset_path = resource_path / \"images/calibrated/dataset_1.npz\"\n",
    "args = Args()"
   ]
  },
  {
   "cell_type": "markdown",
   "metadata": {},
   "source": [
    "## Actual Undistortion of all images"
   ]
  },
  {
   "cell_type": "code",
   "execution_count": 4,
   "metadata": {},
   "outputs": [
    {
     "name": "stdout",
     "output_type": "stream",
     "text": [
      "Opened dataset containing 24 image sets\n"
     ]
    },
    {
     "name": "stderr",
     "output_type": "stream",
     "text": [
      "remap tuples: 24it [00:00, 154.19it/s]"
     ]
    },
    {
     "name": "stdout",
     "output_type": "stream",
     "text": [
      "Remapped all images\n"
     ]
    },
    {
     "name": "stderr",
     "output_type": "stream",
     "text": [
      "\n"
     ]
    },
    {
     "name": "stdout",
     "output_type": "stream",
     "text": [
      "saved undistorted images in ../../resources/images/calibrated/dataset_1.npz\n"
     ]
    }
   ],
   "source": [
    "import cv2\n",
    "import numpy as np\n",
    "# Load Dataset\n",
    "dataset_container = DatasetContainer()\n",
    "dataset_container.load_from_dataset(args.uncalibrated_dataset_path)\n",
    "print(f\"Opened dataset containing {dataset_container.size()} image sets\")\n",
    "\n",
    "# initialize empty dataset container adopting both camera intrinsics\n",
    "remapped_dataset_container = DatasetContainer()\n",
    "remapped_dataset_container.load_from_intrinsics(*dataset_container.get_camera_intrinscs())\n",
    "\n",
    "## Load Coefficients\n",
    "# calibration = StereoCalibration()\n",
    "# calibration.load_calibration(path=args.calibration_file_path)\n",
    "calibration = np.loadtxt(resource_path / Path(\"calibrations/regression/old/calibration_from_1_2_3.np\"))\n",
    "# print(f\"Calibration loaded: {args.calibration_file_path}\")\n",
    "\n",
    "## Undistort Images (iteration over dataset_container retrieves 4-tuples with corresponding images)\n",
    "for rs_rgb, rs_depth, zv_rgb, zv_depth in tqdm(dataset_container, desc='remap tuples'):\n",
    "    # rs_rgb, zv_rgb = calibration.remap(rs_rgb_img, zv_rgb_img)\n",
    "    # rs_depth, zv_depth = calibration.remap(rs_depth_img, zv_depth_img)\n",
    "    rs_rgb = cv2.warpPerspective(rs_rgb, calibration, (zv_rgb.shape[1], zv_rgb.shape[0]))\n",
    "    rs_depth = cv2.warpPerspective(rs_depth, calibration, (zv_rgb.shape[1], zv_rgb.shape[0]))\n",
    "    # add remapped images to according dataset container\n",
    "    remapped_dataset_container.append(rs_rgb, rs_depth, zv_rgb, zv_depth)\n",
    "\n",
    "print(\"Remapped all images\")\n",
    "\n",
    "## save image dataset\n",
    "remapped_dataset_container.save(args.calibrated_dataset_path)\n",
    "\n",
    "print(f\"saved undistorted images in {args.calibrated_dataset_path}\")"
   ]
  }
 ],
 "metadata": {
  "interpreter": {
   "hash": "f6c772e1b5366734256a9870d5f099b9d4fdfd16c1a18810c4324b8e7acb8e99"
  },
  "kernelspec": {
   "display_name": "Python 3.8.12 64-bit",
   "name": "python3"
  },
  "language_info": {
   "codemirror_mode": {
    "name": "ipython",
    "version": 3
   },
   "file_extension": ".py",
   "mimetype": "text/x-python",
   "name": "python",
   "nbconvert_exporter": "python",
   "pygments_lexer": "ipython3",
   "version": "3.8.12"
  },
  "orig_nbformat": 4
 },
 "nbformat": 4,
 "nbformat_minor": 2
}
