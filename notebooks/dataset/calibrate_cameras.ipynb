{
 "cells": [
  {
   "cell_type": "code",
   "execution_count": 6,
   "metadata": {},
   "outputs": [],
   "source": [
    "import sys\n",
    "sys.path.append(\"../../src\")"
   ]
  },
  {
   "cell_type": "code",
   "execution_count": 7,
   "metadata": {},
   "outputs": [],
   "source": [
    "import numpy as np\n",
    "import cv2\n",
    "from cv2 import aruco\n",
    "import pathlib\n",
    "\n",
    "def calibrate_charuco(images: list, marker_length, square_length):\n",
    "    '''Apply camera calibration using aruco.\n",
    "    The dimensions are in cm.\n",
    "    '''\n",
    "    aruco_dict = aruco.Dictionary_get(aruco.DICT_4X4_50) \n",
    "    board = aruco.CharucoBoard_create(5, 7, square_length, marker_length, aruco_dict)\n",
    "    arucoParams = aruco.DetectorParameters_create()\n",
    "\n",
    "    counter, corners_list, id_list = [], [], []\n",
    "    first = 0\n",
    "    # Find the ArUco markers inside each image\n",
    "    for image in images:\n",
    "        img_gray = cv2.cvtColor(image, cv2.COLOR_BGR2GRAY)\n",
    "        corners, ids, rejected = aruco.detectMarkers(\n",
    "            img_gray, \n",
    "            aruco_dict, \n",
    "            parameters=arucoParams\n",
    "        )\n",
    "\n",
    "        resp, charuco_corners, charuco_ids = aruco.interpolateCornersCharuco(\n",
    "            markerCorners=corners,\n",
    "            markerIds=ids,\n",
    "            image=img_gray,\n",
    "            board=board\n",
    "        )\n",
    "        # If a Charuco board was found, let's collect image/corner points\n",
    "        # Requiring at least 20 squares\n",
    "        if resp > 20:\n",
    "            # Add these corners and ids to our calibration arrays\n",
    "            corners_list.append(charuco_corners)\n",
    "            id_list.append(charuco_ids)\n",
    "\n",
    "    # Actual calibration\n",
    "    ret, mtx, dist, rvecs, tvecs = aruco.calibrateCameraCharuco(\n",
    "        charucoCorners=corners_list, \n",
    "        charucoIds=id_list, \n",
    "        board=board, \n",
    "        imageSize=img_gray.shape, \n",
    "        cameraMatrix=None, \n",
    "        distCoeffs=None)\n",
    "    \n",
    "    return [ret, mtx, dist, rvecs, tvecs]\n",
    "\n",
    "\n",
    "def save_coefficients(mtx, dist, tmat, path): \n",
    "    '''Save the camera matrix and the distortion coefficients to given path/file.''' \n",
    "    cv_file = cv2.FileStorage(path, cv2.FILE_STORAGE_WRITE)\n",
    "    cv_file.write('K', mtx)\n",
    "    cv_file.write('D', dist)\n",
    "    cv_file.write('T', tmat)\n",
    "    # note you *release* you don't close() a FileStorage object\n",
    "    cv_file.release()\n",
    "\n",
    "def load_coefficients(path):\n",
    "    '''Loads camera matrix and distortion coefficients.'''\n",
    "    # FILE_STORAGE_READ\n",
    "    cv_file = cv2.FileStorage(path, cv2.FILE_STORAGE_READ)\n",
    "\n",
    "    # note we also have to specify the type to retrieve other wise we only get a\n",
    "    # FileNode object back instead of a matrix\n",
    "    camera_matrix = cv_file.getNode('K').mat()\n",
    "    dist_matrix = cv_file.getNode('D').mat()\n",
    "    transf_matrix = cv_file.getNode('T').mat()\n",
    "\n",
    "    cv_file.release()\n",
    "    return [camera_matrix, dist_matrix, transf_matrix]"
   ]
  },
  {
   "cell_type": "code",
   "execution_count": 8,
   "metadata": {},
   "outputs": [],
   "source": [
    "def get_homogeneous(rvecs, tvecs):\n",
    "    hom = np.identity(4)\n",
    "    rmat, _ = cv2.Rodrigues(np.reshape(rvecs, -1))\n",
    "    hom[0:3, 0:3] = rmat\n",
    "    hom[0:3, 3] = np.squeeze(tvecs[0])\n",
    "    return hom"
   ]
  },
  {
   "cell_type": "markdown",
   "metadata": {},
   "source": [
    "### Calculate & save intr. & extr. matrix"
   ]
  },
  {
   "cell_type": "code",
   "execution_count": 11,
   "metadata": {},
   "outputs": [
    {
     "ename": "error",
     "evalue": "OpenCV(4.5.3) /home/conda/feedstock_root/build_artifacts/libopencv_1633800894050/work/opencv_contrib/modules/aruco/src/charuco.cpp:447: error: (-215:Assertion failed) _markerCorners.total() == _markerIds.getMat().total() && _markerIds.getMat().total() > 0 in function '_interpolateCornersCharucoLocalHom'\n",
     "output_type": "error",
     "traceback": [
      "\u001b[0;31m---------------------------------------------------------------------------\u001b[0m",
      "\u001b[0;31merror\u001b[0m                                     Traceback (most recent call last)",
      "\u001b[0;32m/tmp/ipykernel_104383/3332562984.py\u001b[0m in \u001b[0;36m<module>\u001b[0;34m\u001b[0m\n\u001b[1;32m     21\u001b[0m )\n\u001b[1;32m     22\u001b[0m \u001b[0;34m\u001b[0m\u001b[0m\n\u001b[0;32m---> 23\u001b[0;31m ret_ziv, mtx_ziv, dist_ziv, rvecs_ziv, tvecs_ziv = calibrate_charuco(\n\u001b[0m\u001b[1;32m     24\u001b[0m     \u001b[0mzividColor\u001b[0m\u001b[0;34m,\u001b[0m\u001b[0;34m\u001b[0m\u001b[0;34m\u001b[0m\u001b[0m\n\u001b[1;32m     25\u001b[0m     \u001b[0mMARKER_LENGTH\u001b[0m\u001b[0;34m,\u001b[0m\u001b[0;34m\u001b[0m\u001b[0;34m\u001b[0m\u001b[0m\n",
      "\u001b[0;32m/tmp/ipykernel_104383/2722711573.py\u001b[0m in \u001b[0;36mcalibrate_charuco\u001b[0;34m(images, marker_length, square_length)\u001b[0m\n\u001b[1;32m     23\u001b[0m         )\n\u001b[1;32m     24\u001b[0m \u001b[0;34m\u001b[0m\u001b[0m\n\u001b[0;32m---> 25\u001b[0;31m         resp, charuco_corners, charuco_ids = aruco.interpolateCornersCharuco(\n\u001b[0m\u001b[1;32m     26\u001b[0m             \u001b[0mmarkerCorners\u001b[0m\u001b[0;34m=\u001b[0m\u001b[0mcorners\u001b[0m\u001b[0;34m,\u001b[0m\u001b[0;34m\u001b[0m\u001b[0;34m\u001b[0m\u001b[0m\n\u001b[1;32m     27\u001b[0m             \u001b[0mmarkerIds\u001b[0m\u001b[0;34m=\u001b[0m\u001b[0mids\u001b[0m\u001b[0;34m,\u001b[0m\u001b[0;34m\u001b[0m\u001b[0;34m\u001b[0m\u001b[0m\n",
      "\u001b[0;31merror\u001b[0m: OpenCV(4.5.3) /home/conda/feedstock_root/build_artifacts/libopencv_1633800894050/work/opencv_contrib/modules/aruco/src/charuco.cpp:447: error: (-215:Assertion failed) _markerCorners.total() == _markerIds.getMat().total() && _markerIds.getMat().total() > 0 in function '_interpolateCornersCharucoLocalHom'\n"
     ]
    }
   ],
   "source": [
    "from matplotlib import pyplot as plt\n",
    "from models.dataset.DatasetHelper import openImageDataset\n",
    "\n",
    "\n",
    "# Parameters\n",
    "DATASET_PATH = \"../../resources/images/uncalibrated/calibration_dataset.npz\"\n",
    "\n",
    "# Dimensions in cm\n",
    "MARKER_LENGTH = 5.625\n",
    "SQUARE_LENGTH = 7.5\n",
    "\n",
    "# load images\n",
    "realsenseColor, _, zividColor, _ = openImageDataset(DATASET_PATH)\n",
    "\n",
    "\n",
    "# Calibrate \n",
    "ret_rs, mtx_rs, dist_rs, rvecs_rs, tvecs_rs = calibrate_charuco(\n",
    "    realsenseColor,\n",
    "    MARKER_LENGTH,\n",
    "    SQUARE_LENGTH\n",
    ")\n",
    "\n",
    "ret_ziv, mtx_ziv, dist_ziv, rvecs_ziv, tvecs_ziv = calibrate_charuco(\n",
    "    zividColor,\n",
    "    MARKER_LENGTH,\n",
    "    SQUARE_LENGTH\n",
    ")\n",
    "\n",
    "# Calculate both homogenous transformation matrixes\n",
    "T_rs = get_homogeneous(rvecs_rs, tvecs_rs)\n",
    "T_ziv = get_homogeneous(rvecs_ziv, tvecs_ziv)\n",
    "\n",
    "\n",
    "# Save coefficients into a file\n",
    "save_coefficients(mtx_rs, dist_rs, T_rs, '../../resources/calibrations/calibration_rs.yml')\n",
    "save_coefficients(mtx_ziv, dist_ziv, T_ziv, '../../resources/calibrations/calibration_ziv.yml')"
   ]
  },
  {
   "cell_type": "markdown",
   "metadata": {},
   "source": [
    "0.075 m\n",
    "4x4 aruco a 1/8 bzw 6/8 * 0.075 "
   ]
  },
  {
   "cell_type": "markdown",
   "metadata": {},
   "source": [
    "### Transform using o3d [http://www.open3d.org/docs/release/tutorial/geometry/transformation.html](test)"
   ]
  },
  {
   "cell_type": "code",
   "execution_count": 12,
   "metadata": {},
   "outputs": [],
   "source": [
    "def transform_ziv_to_rs_image(ziv_img):\n",
    "   _, _, T_rs = load_coefficients('../../resources/calibrations/calibration_rs.yml')\n",
    "   _, _, T_ziv = load_coefficients('../../resources/calibrations/calibration_ziv.yml')\n",
    "   return ziv_img.transform(np.linalg.inv(T_rs) @ T_ziv) "
   ]
  },
  {
   "cell_type": "code",
   "execution_count": 13,
   "metadata": {},
   "outputs": [
    {
     "ename": "NameError",
     "evalue": "name 'original' is not defined",
     "output_type": "error",
     "traceback": [
      "\u001b[0;31m---------------------------------------------------------------------------\u001b[0m",
      "\u001b[0;31mNameError\u001b[0m                                 Traceback (most recent call last)",
      "\u001b[0;32m/tmp/ipykernel_104383/1535386263.py\u001b[0m in \u001b[0;36m<module>\u001b[0;34m\u001b[0m\n\u001b[1;32m      1\u001b[0m dst = cv2.undistort(\n\u001b[0;32m----> 2\u001b[0;31m     \u001b[0moriginal\u001b[0m\u001b[0;34m,\u001b[0m \u001b[0mmtx_rs\u001b[0m\u001b[0;34m,\u001b[0m \u001b[0mdist\u001b[0m\u001b[0;34m,\u001b[0m \u001b[0;32mNone\u001b[0m\u001b[0;34m,\u001b[0m \u001b[0mmtx_rs\u001b[0m\u001b[0;34m\u001b[0m\u001b[0;34m\u001b[0m\u001b[0m\n\u001b[0m\u001b[1;32m      3\u001b[0m )\n\u001b[1;32m      4\u001b[0m \u001b[0mcv2\u001b[0m\u001b[0;34m.\u001b[0m\u001b[0mimwrite\u001b[0m\u001b[0;34m(\u001b[0m\u001b[0;34m'../../resources/images/calibrated/undist_rs.png'\u001b[0m\u001b[0;34m,\u001b[0m \u001b[0mdst\u001b[0m\u001b[0;34m)\u001b[0m\u001b[0;34m\u001b[0m\u001b[0;34m\u001b[0m\u001b[0m\n",
      "\u001b[0;31mNameError\u001b[0m: name 'original' is not defined"
     ]
    }
   ],
   "source": [
    "\n",
    "dst = cv2.undistort(\n",
    "    original, mtx_rs, dist, None, mtx_rs\n",
    ")\n",
    "cv2.imwrite('../../resources/images/calibrated/undist_rs.png', dst)"
   ]
  }
 ],
 "metadata": {
  "interpreter": {
   "hash": "522bbe2e29048e488d8dbb591664569cb2f33d81832cd4a5c40bcbe436ad1b9e"
  },
  "kernelspec": {
   "display_name": "Python 3.7.12 64-bit ('depth-denoising': conda)",
   "name": "python3"
  },
  "language_info": {
   "codemirror_mode": {
    "name": "ipython",
    "version": 3
   },
   "file_extension": ".py",
   "mimetype": "text/x-python",
   "name": "python",
   "nbconvert_exporter": "python",
   "pygments_lexer": "ipython3",
   "version": "3.8.12"
  },
  "orig_nbformat": 4
 },
 "nbformat": 4,
 "nbformat_minor": 2
}
