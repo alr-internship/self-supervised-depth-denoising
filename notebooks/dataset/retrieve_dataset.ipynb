{
 "cells": [
  {
   "cell_type": "markdown",
   "source": [
    "# Retrieve Dataset"
   ],
   "metadata": {}
  },
  {
   "cell_type": "code",
   "execution_count": 13,
   "source": [
    "class Args:\n",
    "    pictures_per_pose = 3               # \n",
    "    delay = 50                         # delay in ms\n",
    "    dataset_path = \"../../resources/images/uncalibrated/dataset_0.npz\"\n",
    "\n",
    "\n",
    "args = Args()"
   ],
   "outputs": [],
   "metadata": {}
  },
  {
   "cell_type": "code",
   "execution_count": 2,
   "source": [
    "# import dependencies\n",
    "from matplotlib import pyplot as plt\n",
    "import time"
   ],
   "outputs": [],
   "metadata": {}
  },
  {
   "cell_type": "code",
   "execution_count": 3,
   "source": [
    "import sys\n",
    "sys.path.append(\"../../src\")"
   ],
   "outputs": [],
   "metadata": {}
  },
  {
   "cell_type": "code",
   "execution_count": 4,
   "source": [
    "from models.camera_interfaces.RealSense import RealSense\n",
    "from models.camera_interfaces.Zivid import Zivid\n",
    "from matplotlib import pyplot as plt"
   ],
   "outputs": [],
   "metadata": {}
  },
  {
   "cell_type": "code",
   "execution_count": 5,
   "source": [
    "# instantiate and connect to cameras\n",
    "real_sense = RealSense()\n",
    "zivid = Zivid()\n",
    "zivid.connect()"
   ],
   "outputs": [
    {
     "output_type": "stream",
     "name": "stdout",
     "text": [
      "camera product line: D400\n",
      "camera product id: 0B07\n",
      "Depth Camera Intrinsics\n",
      "Principal Point: 635.5166625976562 359.2284851074219\n",
      "Focal Length:    639.042724609375 639.042724609375\n",
      "Color Camera Intrinsics\n",
      "Principal Point: 936.4846801757812 537.48779296875\n",
      "Focal Length:    1377.6448974609375 1375.7239990234375\n",
      "connecting to camera\n",
      "automatically configuring settings\n",
      "camera configured\n"
     ]
    }
   ],
   "metadata": {}
  },
  {
   "cell_type": "markdown",
   "source": [
    "## Collect Pictures"
   ],
   "metadata": {}
  },
  {
   "cell_type": "code",
   "execution_count": 20,
   "source": [
    "path = \"../../resources/images/uncalibrated\"\n",
    "rs_path = path + \"/realsense\"\n",
    "zv_path = path + \"/zivid\"\n",
    "\n",
    "i = 0\n",
    "while True:\n",
    "    print(\"Calibrating Cameras\")\n",
    "    zivid.calibrate()\n",
    "    for j in range(args.pictures_per_pose):\n",
    "        print(f\"Capturing Frames {j}\")\n",
    "        idx = i * args.pictures_per_pose + j\n",
    "        real_sense.collect_and_save_pointcloud(rs_path + f\"/{idx}.ply\")\n",
    "        zivid.collect_and_save_pointcloud(zv_path + f\"/{idx}.zdf\")\n",
    "\n",
    "        time.sleep(args.delay / 1000.0)\n",
    "\n",
    "    i = i + 1\n",
    "\n",
    "    break_loop = input()\n",
    "    if break_loop == \"n\":\n",
    "        break\n",
    "    \n",
    "    \n",
    "print(\"Pictures Retrieved\")"
   ],
   "outputs": [
    {
     "output_type": "stream",
     "name": "stdout",
     "text": [
      "Calibrating Cameras\n",
      "automatically configuring settings\n"
     ]
    },
    {
     "output_type": "error",
     "ename": "RuntimeError",
     "evalue": "Camera not connected",
     "traceback": [
      "\u001b[0;31m---------------------------------------------------------------------------\u001b[0m",
      "\u001b[0;31mRuntimeError\u001b[0m                              Traceback (most recent call last)",
      "\u001b[0;32m/tmp/ipykernel_6633/4117443256.py\u001b[0m in \u001b[0;36m<module>\u001b[0;34m\u001b[0m\n\u001b[1;32m     11\u001b[0m \u001b[0;34m\u001b[0m\u001b[0m\n\u001b[1;32m     12\u001b[0m     \u001b[0mprint\u001b[0m\u001b[0;34m(\u001b[0m\u001b[0;34m\"Calibrating Cameras\"\u001b[0m\u001b[0;34m)\u001b[0m\u001b[0;34m\u001b[0m\u001b[0;34m\u001b[0m\u001b[0m\n\u001b[0;32m---> 13\u001b[0;31m     \u001b[0mzivid\u001b[0m\u001b[0;34m.\u001b[0m\u001b[0mcalibrate\u001b[0m\u001b[0;34m(\u001b[0m\u001b[0;34m)\u001b[0m\u001b[0;34m\u001b[0m\u001b[0;34m\u001b[0m\u001b[0m\n\u001b[0m\u001b[1;32m     14\u001b[0m     \u001b[0;32mfor\u001b[0m \u001b[0mj\u001b[0m \u001b[0;32min\u001b[0m \u001b[0mrange\u001b[0m\u001b[0;34m(\u001b[0m\u001b[0margs\u001b[0m\u001b[0;34m.\u001b[0m\u001b[0mpictures_per_pose\u001b[0m\u001b[0;34m)\u001b[0m\u001b[0;34m:\u001b[0m\u001b[0;34m\u001b[0m\u001b[0;34m\u001b[0m\u001b[0m\n\u001b[1;32m     15\u001b[0m         \u001b[0mprint\u001b[0m\u001b[0;34m(\u001b[0m\u001b[0;34mf\"Capturing Frame {j}\"\u001b[0m\u001b[0;34m)\u001b[0m\u001b[0;34m\u001b[0m\u001b[0;34m\u001b[0m\u001b[0m\n",
      "\u001b[0;32m~/Documents/self-supervised-depth-denoising/notebooks/dataset/../../src/models/camera_interfaces/Zivid.py\u001b[0m in \u001b[0;36mcalibrate\u001b[0;34m(self, capture_time)\u001b[0m\n\u001b[1;32m     32\u001b[0m         )\n\u001b[1;32m     33\u001b[0m \u001b[0;34m\u001b[0m\u001b[0m\n\u001b[0;32m---> 34\u001b[0;31m         self.settings = zivid.capture_assistant.suggest_settings(\n\u001b[0m\u001b[1;32m     35\u001b[0m             \u001b[0mself\u001b[0m\u001b[0;34m.\u001b[0m\u001b[0mcamera\u001b[0m\u001b[0;34m,\u001b[0m \u001b[0msuggest_settings_parameters\u001b[0m\u001b[0;34m\u001b[0m\u001b[0;34m\u001b[0m\u001b[0m\n\u001b[1;32m     36\u001b[0m         )\n",
      "\u001b[0;32m~/miniconda3/envs/depth-denoising_dataset/lib/python3.8/site-packages/zivid/capture_assistant.py\u001b[0m in \u001b[0;36msuggest_settings\u001b[0;34m(camera, suggest_settings_parameters)\u001b[0m\n\u001b[1;32m     24\u001b[0m         \u001b[0mA\u001b[0m \u001b[0mSettings\u001b[0m \u001b[0minstance\u001b[0m \u001b[0moptimized\u001b[0m \u001b[0;32mfor\u001b[0m \u001b[0mthe\u001b[0m \u001b[0mcurrent\u001b[0m \u001b[0mscene\u001b[0m\u001b[0;34m\u001b[0m\u001b[0;34m\u001b[0m\u001b[0m\n\u001b[1;32m     25\u001b[0m     \"\"\"\n\u001b[0;32m---> 26\u001b[0;31m     internal_settings = _zivid.capture_assistant.suggest_settings(\n\u001b[0m\u001b[1;32m     27\u001b[0m         \u001b[0mcamera\u001b[0m\u001b[0;34m.\u001b[0m\u001b[0m_Camera__impl\u001b[0m\u001b[0;34m,\u001b[0m  \u001b[0;31m# pylint: disable=protected-access\u001b[0m\u001b[0;34m\u001b[0m\u001b[0;34m\u001b[0m\u001b[0m\n\u001b[1;32m     28\u001b[0m         _to_internal_capture_assistant_suggest_settings_parameters(\n",
      "\u001b[0;31mRuntimeError\u001b[0m: Camera not connected"
     ]
    }
   ],
   "metadata": {}
  },
  {
   "cell_type": "markdown",
   "source": [
    "## Display Pictures"
   ],
   "metadata": {}
  },
  {
   "cell_type": "code",
   "execution_count": 15,
   "source": [
    "import open3d as o3d\n",
    "\n",
    "pcd = o3d.io.read_point_cloud(rs_path + \"/1.ply\")\n",
    "o3d.visualization.draw_geometries([pcd])"
   ],
   "outputs": [],
   "metadata": {}
  }
 ],
 "metadata": {
  "interpreter": {
   "hash": "f6c772e1b5366734256a9870d5f099b9d4fdfd16c1a18810c4324b8e7acb8e99"
  },
  "kernelspec": {
   "name": "python3",
   "display_name": "Python 3.8.12 64-bit ('depth-denoising_dataset': conda)"
  },
  "language_info": {
   "codemirror_mode": {
    "name": "ipython",
    "version": 3
   },
   "file_extension": ".py",
   "mimetype": "text/x-python",
   "name": "python",
   "nbconvert_exporter": "python",
   "pygments_lexer": "ipython3",
   "version": "3.8.12"
  },
  "orig_nbformat": 4
 },
 "nbformat": 4,
 "nbformat_minor": 2
}