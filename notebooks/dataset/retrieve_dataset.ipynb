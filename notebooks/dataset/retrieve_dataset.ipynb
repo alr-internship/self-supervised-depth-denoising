{
 "cells": [
  {
   "cell_type": "markdown",
   "metadata": {},
   "source": [
    "# Retrieve Dataset"
   ]
  },
  {
   "cell_type": "code",
   "execution_count": 11,
   "metadata": {},
   "outputs": [],
   "source": [
    "class Args:\n",
    "    pictures_per_pose = 3               # \n",
    "    delay = 500                         # delay in ms\n",
    "    dataset_path = \"../../resources/images/uncalibrated/dataset_0.npz\"\n",
    "\n",
    "\n",
    "args = Args()"
   ]
  },
  {
   "cell_type": "code",
   "execution_count": 12,
   "metadata": {},
   "outputs": [],
   "source": [
    "# import dependencies\n",
    "from matplotlib import pyplot as plt\n",
    "import time"
   ]
  },
  {
   "cell_type": "code",
   "execution_count": 13,
   "metadata": {},
   "outputs": [],
   "source": [
    "import sys\n",
    "sys.path.append(\"../../src\")"
   ]
  },
  {
   "cell_type": "code",
   "execution_count": 14,
   "metadata": {},
   "outputs": [],
   "source": [
    "from models.camera_interfaces.RealSense import RealSense\n",
    "from models.camera_interfaces.Zivid import Zivid\n",
    "from matplotlib import pyplot as plt"
   ]
  },
  {
   "cell_type": "code",
   "execution_count": 16,
   "metadata": {},
   "outputs": [
    {
     "name": "stdout",
     "output_type": "stream",
     "text": [
      "camera product line: D400\n",
      "camera product id: 0B07\n",
      "Depth Camera Intrinsics\n",
      "Principal Point: 635.5166625976562 359.2284851074219\n",
      "Focal Length:    639.042724609375 639.042724609375\n",
      "Color Camera Intrinsics\n",
      "Principal Point: 936.4846801757812 537.48779296875\n",
      "Focal Length:    1377.6448974609375 1375.7239990234375\n"
     ]
    },
    {
     "ename": "RuntimeError",
     "evalue": "An OpenCL error occurred: Failed to get platforms\n\nMake sure the OpenCL driver is installed and working ('clinfo' needs to show at least one platform).\n\nFor more help, visit the Zivid Knowledge Base at https://help.zivid.com.\n\n[CL_PLATFORM_NOT_FOUND_KHR]",
     "output_type": "error",
     "traceback": [
      "\u001b[0;31m---------------------------------------------------------------------------\u001b[0m",
      "\u001b[0;31mRuntimeError\u001b[0m                              Traceback (most recent call last)",
      "\u001b[0;32m/tmp/ipykernel_2309/1059606052.py\u001b[0m in \u001b[0;36m<module>\u001b[0;34m\u001b[0m\n\u001b[1;32m      1\u001b[0m \u001b[0;31m# instantiate and connect to cameras\u001b[0m\u001b[0;34m\u001b[0m\u001b[0;34m\u001b[0m\u001b[0;34m\u001b[0m\u001b[0m\n\u001b[1;32m      2\u001b[0m \u001b[0mreal_sense\u001b[0m \u001b[0;34m=\u001b[0m \u001b[0mRealSense\u001b[0m\u001b[0;34m(\u001b[0m\u001b[0;34m)\u001b[0m\u001b[0;34m\u001b[0m\u001b[0;34m\u001b[0m\u001b[0m\n\u001b[0;32m----> 3\u001b[0;31m \u001b[0mzivid\u001b[0m \u001b[0;34m=\u001b[0m \u001b[0mZivid\u001b[0m\u001b[0;34m(\u001b[0m\u001b[0;34m)\u001b[0m\u001b[0;34m\u001b[0m\u001b[0;34m\u001b[0m\u001b[0m\n\u001b[0m",
      "\u001b[0;32m~/Documents/Studium/self-supervised-depth-denoising/notebooks/dataset/../../src/models/camera_interfaces/Zivid.py\u001b[0m in \u001b[0;36m__init__\u001b[0;34m(self)\u001b[0m\n\u001b[1;32m     14\u001b[0m             \u001b[0mcapture_time\u001b[0m\u001b[0;34m:\u001b[0m \u001b[0mthe\u001b[0m \u001b[0mcapture\u001b[0m \u001b[0mtime\u001b[0m \u001b[0mof\u001b[0m \u001b[0mthe\u001b[0m \u001b[0mcamera\u001b[0m \u001b[0;32min\u001b[0m \u001b[0mmilliseconds\u001b[0m\u001b[0;34m\u001b[0m\u001b[0;34m\u001b[0m\u001b[0m\n\u001b[1;32m     15\u001b[0m         \"\"\"\n\u001b[0;32m---> 16\u001b[0;31m         \u001b[0mself\u001b[0m\u001b[0;34m.\u001b[0m\u001b[0mapp\u001b[0m \u001b[0;34m=\u001b[0m \u001b[0mzivid\u001b[0m\u001b[0;34m.\u001b[0m\u001b[0mApplication\u001b[0m\u001b[0;34m(\u001b[0m\u001b[0;34m)\u001b[0m\u001b[0;34m\u001b[0m\u001b[0;34m\u001b[0m\u001b[0m\n\u001b[0m\u001b[1;32m     17\u001b[0m \u001b[0;34m\u001b[0m\u001b[0m\n\u001b[1;32m     18\u001b[0m     \u001b[0;32mdef\u001b[0m \u001b[0mconnect\u001b[0m\u001b[0;34m(\u001b[0m\u001b[0mself\u001b[0m\u001b[0;34m,\u001b[0m \u001b[0mcapture_time\u001b[0m\u001b[0;34m:\u001b[0m \u001b[0mint\u001b[0m \u001b[0;34m=\u001b[0m \u001b[0;36m1200\u001b[0m\u001b[0;34m)\u001b[0m\u001b[0;34m:\u001b[0m\u001b[0;34m\u001b[0m\u001b[0;34m\u001b[0m\u001b[0m\n",
      "\u001b[0;32m~/.conda/envs/depth-denoising_dataset/lib/python3.8/site-packages/zivid/application.py\u001b[0m in \u001b[0;36m__init__\u001b[0;34m(self)\u001b[0m\n\u001b[1;32m     24\u001b[0m     \u001b[0;32mdef\u001b[0m \u001b[0m__init__\u001b[0m\u001b[0;34m(\u001b[0m\u001b[0mself\u001b[0m\u001b[0;34m)\u001b[0m\u001b[0;34m:\u001b[0m\u001b[0;34m\u001b[0m\u001b[0;34m\u001b[0m\u001b[0m\n\u001b[1;32m     25\u001b[0m         \u001b[0;34m\"\"\"Initialize application.\"\"\"\u001b[0m\u001b[0;34m\u001b[0m\u001b[0;34m\u001b[0m\u001b[0m\n\u001b[0;32m---> 26\u001b[0;31m         \u001b[0mself\u001b[0m\u001b[0;34m.\u001b[0m\u001b[0m__impl\u001b[0m \u001b[0;34m=\u001b[0m \u001b[0m_zivid\u001b[0m\u001b[0;34m.\u001b[0m\u001b[0mApplication\u001b[0m\u001b[0;34m(\u001b[0m\u001b[0;34m)\u001b[0m\u001b[0;34m\u001b[0m\u001b[0;34m\u001b[0m\u001b[0m\n\u001b[0m\u001b[1;32m     27\u001b[0m \u001b[0;34m\u001b[0m\u001b[0m\n\u001b[1;32m     28\u001b[0m     \u001b[0;32mdef\u001b[0m \u001b[0m__str__\u001b[0m\u001b[0;34m(\u001b[0m\u001b[0mself\u001b[0m\u001b[0;34m)\u001b[0m\u001b[0;34m:\u001b[0m\u001b[0;34m\u001b[0m\u001b[0;34m\u001b[0m\u001b[0m\n",
      "\u001b[0;31mRuntimeError\u001b[0m: An OpenCL error occurred: Failed to get platforms\n\nMake sure the OpenCL driver is installed and working ('clinfo' needs to show at least one platform).\n\nFor more help, visit the Zivid Knowledge Base at https://help.zivid.com.\n\n[CL_PLATFORM_NOT_FOUND_KHR]"
     ]
    }
   ],
   "source": [
    "# instantiate and connect to cameras\n",
    "real_sense = RealSense()\n",
    "zivid = Zivid()"
   ]
  },
  {
   "cell_type": "markdown",
   "metadata": {},
   "source": [
    "## Collect Pictures"
   ]
  },
  {
   "cell_type": "code",
   "execution_count": 9,
   "metadata": {},
   "outputs": [
    {
     "name": "stdout",
     "output_type": "stream",
     "text": [
      "Pictures Retrieved\n"
     ]
    }
   ],
   "source": [
    "path = \"../../resources/images/uncalibrated\"\n",
    "rs_path = path + \"/realsense\"\n",
    "zv_path = path + \"/zivid\"\n",
    "\n",
    "i = 0\n",
    "while True:\n",
    "    break_loop = input()\n",
    "    if break_loop == \"n\":\n",
    "        break\n",
    "    \n",
    "    zivid.calibrate()\n",
    "    for j in range(args.pictures_per_pose):\n",
    "        idx = i * args.pictures_per_pose + j\n",
    "        real_sense.collect_and_save_pointcloud(rs_path + f\"/{idx}.ply\")\n",
    "        zivid.collect_and_save_pointcloud(zv_path + f\"/{idx}.zdf\")\n",
    "\n",
    "        time.sleep(args.delay / 1000.0)\n",
    "\n",
    "    i = i + 1\n",
    "    \n",
    "print(\"Pictures Retrieved\")"
   ]
  },
  {
   "cell_type": "markdown",
   "metadata": {},
   "source": [
    "## Display Pictures"
   ]
  },
  {
   "cell_type": "code",
   "execution_count": 10,
   "metadata": {},
   "outputs": [
    {
     "name": "stdout",
     "output_type": "stream",
     "text": [
      "Jupyter environment detected. Enabling Open3D WebVisualizer.\n",
      "[Open3D INFO] WebRTC GUI backend enabled.\n",
      "[Open3D INFO] WebRTCWindowSystem: HTTP handshake server disabled.\n"
     ]
    },
    {
     "name": "stderr",
     "output_type": "stream",
     "text": [
      "RPly: Unable to open file\n"
     ]
    },
    {
     "name": "stdout",
     "output_type": "stream",
     "text": [
      "\u001b[1;33m[Open3D WARNING] Read PLY failed: unable to open file: ../../resources/images/uncalibrated/realsense/0.ply\u001b[0;m\n"
     ]
    }
   ],
   "source": [
    "import open3d as o3d\n",
    "\n",
    "pcd = o3d.io.read_point_cloud(rs_path + \"/0.ply\")\n",
    "o3d.visualization.draw_geometries([pcd])"
   ]
  }
 ],
 "metadata": {
  "interpreter": {
   "hash": "bd4206aa27b30d13b75c80133c0a4c7fea90a7d1276f759f57caf3101ae8a0ae"
  },
  "kernelspec": {
   "display_name": "Python 3.8.12 64-bit ('depth-denoising_dataset': conda)",
   "name": "python3"
  },
  "language_info": {
   "codemirror_mode": {
    "name": "ipython",
    "version": 3
   },
   "file_extension": ".py",
   "mimetype": "text/x-python",
   "name": "python",
   "nbconvert_exporter": "python",
   "pygments_lexer": "ipython3",
   "version": "3.8.12"
  },
  "orig_nbformat": 4
 },
 "nbformat": 4,
 "nbformat_minor": 2
}