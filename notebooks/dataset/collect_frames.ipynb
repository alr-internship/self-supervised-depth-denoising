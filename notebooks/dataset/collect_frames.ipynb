{
 "cells": [
  {
   "cell_type": "markdown",
   "metadata": {},
   "source": [
    "# Image Collection and Printout for RealSense and Zivid Cameras"
   ]
  },
  {
   "cell_type": "markdown",
   "metadata": {},
   "source": [
    "## Prerequiremens"
   ]
  },
  {
   "cell_type": "code",
   "execution_count": null,
   "metadata": {},
   "outputs": [],
   "source": [
    "# import dependencies\n",
    "from matplotlib import pyplot as plt"
   ]
  },
  {
   "cell_type": "code",
   "execution_count": null,
   "metadata": {},
   "outputs": [],
   "source": [
    "# import required models\n",
    "import sys\n",
    "sys.path.append(\"../../src\")\n",
    "\n",
    "from visualization.visualize_images import get_visualized_depth_image, convert_bgr_to_rgb"
   ]
  },
  {
   "cell_type": "markdown",
   "metadata": {},
   "source": [
    "## Instantiate RealSense Camera Interface"
   ]
  },
  {
   "cell_type": "code",
   "execution_count": null,
   "metadata": {},
   "outputs": [],
   "source": [
    "from models.camera_interfaces.RealSense import RealSense\n",
    "real_sense = RealSense() # FIXME: cant be reinstantiated"
   ]
  },
  {
   "cell_type": "markdown",
   "metadata": {},
   "source": [
    "## RealSense Images"
   ]
  },
  {
   "cell_type": "code",
   "execution_count": null,
   "metadata": {},
   "outputs": [],
   "source": [
    "# collect image from real sense\n",
    "rl_depth_image, rl_color_image = real_sense.collect_frame()\n",
    "\n",
    "# check if depth frame valid\n",
    "if rl_depth_image is None or rl_color_image is None:\n",
    "    raise Exception(\"got invalid depth or color image\")\n",
    "\n",
    "# visualize depth frame\n",
    "depth_colormap = get_visualized_depth_image(depth_image=rl_depth_image)\n",
    "\n",
    "f, axarr = plt.subplots(1, 2, figsize=(45, 45)) # make figures larger\n",
    "axarr[0].imshow(depth_colormap)\n",
    "axarr[1].imshow(convert_bgr_to_rgb(image=rl_color_image))"
   ]
  },
  {
   "cell_type": "markdown",
   "metadata": {},
   "source": [
    "## Zivid Images"
   ]
  },
  {
   "cell_type": "code",
   "execution_count": null,
   "metadata": {},
   "outputs": [],
   "source": [
    "from models.camera_interfaces.Zivid import Zivid\n",
    "zivid = Zivid()\n",
    "zivid.connect()"
   ]
  },
  {
   "cell_type": "code",
   "execution_count": null,
   "metadata": {},
   "outputs": [],
   "source": [
    "z_color_image, z_depth_image = zivid.collect_frame()\n",
    "\n",
    "# visualize depth frame\n",
    "z_depth_colormap = get_visualized_depth_image(depth_image=z_depth_image)\n",
    "\n",
    "f, axarr = plt.subplots(1, 2, figsize=(45, 45)) # make figures larger\n",
    "axarr[0].imshow(z_depth_colormap)\n",
    "axarr[1].imshow(convert_bgr_to_rgb(image=z_color_image))"
   ]
  }
 ],
 "metadata": {
  "interpreter": {
   "hash": "522bbe2e29048e488d8dbb591664569cb2f33d81832cd4a5c40bcbe436ad1b9e"
  },
  "kernelspec": {
   "display_name": "Python 3.7.12 64-bit ('depth-denoising': conda)",
   "name": "python3"
  },
  "language_info": {
   "codemirror_mode": {
    "name": "ipython",
    "version": 3
   },
   "file_extension": ".py",
   "mimetype": "text/x-python",
   "name": "python",
   "nbconvert_exporter": "python",
   "pygments_lexer": "ipython3",
   "version": "3.8.12"
  },
  "orig_nbformat": 4
 },
 "nbformat": 4,
 "nbformat_minor": 2
}
