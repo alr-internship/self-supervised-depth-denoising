{
 "cells": [
  {
   "cell_type": "markdown",
   "metadata": {},
   "source": [
    "\n",
    "# Convert zdf files into png files to calculate transformation matrix"
   ]
  },
  {
   "cell_type": "code",
   "execution_count": null,
   "metadata": {},
   "outputs": [],
   "source": [
    "import os\n",
    "from models.camera_interfaces.Zivid import Zivid\n",
    "\n",
    "dir = '../resources/images/uncalibrated/zivid/'\n",
    "raw_dir = dir + \"raw/\"\n",
    "color_dir = dir + \"color/\"\n",
    "depth_dir = dir + \"depth/\"\n",
    "\n",
    "zivid = Zivid()\n",
    "for file_name in os.listdir(raw_dir):\n",
    "    zdf_file_path = os.path.join(raw_dir, file_name)\n",
    "    base_name = file_name.split(\".\")[0]\n",
    "    color_file_path = os.path.join(color_dir, base_name + '.png')\n",
    "    depth_file_path = os.path.join(depth_dir, base_name + '.png')\n",
    "    if os.path.isfile(zdf_file_path):\n",
    "        zivid.convert_zdf_to_png(zdf_file_path, color_file_path, depth_file_path)"
   ]
  },
  {
   "cell_type": "markdown",
   "metadata": {},
   "source": [
    "# Convert ply files into png files"
   ]
  },
  {
   "cell_type": "code",
   "execution_count": 10,
   "metadata": {},
   "outputs": [
    {
     "ename": "IndexError",
     "evalue": "index 1109 is out of bounds for axis 0 with size 1080",
     "output_type": "error",
     "traceback": [
      "\u001b[0;31m---------------------------------------------------------------------------\u001b[0m",
      "\u001b[0;31mIndexError\u001b[0m                                Traceback (most recent call last)",
      "\u001b[0;32m/tmp/ipykernel_25274/2876105542.py\u001b[0m in \u001b[0;36m<module>\u001b[0;34m\u001b[0m\n\u001b[1;32m     22\u001b[0m \u001b[0;32mfor\u001b[0m \u001b[0mpoint\u001b[0m\u001b[0;34m,\u001b[0m \u001b[0mcolor\u001b[0m \u001b[0;32min\u001b[0m \u001b[0mzip\u001b[0m\u001b[0;34m(\u001b[0m\u001b[0mmesh\u001b[0m\u001b[0;34m.\u001b[0m\u001b[0mpoints\u001b[0m\u001b[0;34m,\u001b[0m \u001b[0mmesh\u001b[0m\u001b[0;34m.\u001b[0m\u001b[0mcolors\u001b[0m\u001b[0;34m)\u001b[0m\u001b[0;34m:\u001b[0m\u001b[0;34m\u001b[0m\u001b[0;34m\u001b[0m\u001b[0m\n\u001b[1;32m     23\u001b[0m     \u001b[0mcoordinate\u001b[0m \u001b[0;34m=\u001b[0m \u001b[0mnp\u001b[0m\u001b[0;34m.\u001b[0m\u001b[0marray\u001b[0m\u001b[0;34m(\u001b[0m\u001b[0mrs\u001b[0m\u001b[0;34m.\u001b[0m\u001b[0mrs2_project_point_to_pixel\u001b[0m\u001b[0;34m(\u001b[0m\u001b[0mci\u001b[0m\u001b[0;34m,\u001b[0m \u001b[0mpoint\u001b[0m\u001b[0;34m)\u001b[0m\u001b[0;34m,\u001b[0m \u001b[0mdtype\u001b[0m\u001b[0;34m=\u001b[0m\u001b[0mnp\u001b[0m\u001b[0;34m.\u001b[0m\u001b[0mint32\u001b[0m\u001b[0;34m)\u001b[0m\u001b[0;34m\u001b[0m\u001b[0;34m\u001b[0m\u001b[0m\n\u001b[0;32m---> 24\u001b[0;31m     \u001b[0mmat\u001b[0m\u001b[0;34m[\u001b[0m\u001b[0mcoordinate\u001b[0m\u001b[0;34m]\u001b[0m \u001b[0;34m=\u001b[0m \u001b[0mcolor\u001b[0m\u001b[0;34m\u001b[0m\u001b[0;34m\u001b[0m\u001b[0m\n\u001b[0m\u001b[1;32m     25\u001b[0m \u001b[0;34m\u001b[0m\u001b[0m\n\u001b[1;32m     26\u001b[0m \u001b[0mplt\u001b[0m\u001b[0;34m.\u001b[0m\u001b[0mimshow\u001b[0m\u001b[0;34m(\u001b[0m\u001b[0mmat\u001b[0m\u001b[0;34m)\u001b[0m\u001b[0;34m\u001b[0m\u001b[0;34m\u001b[0m\u001b[0m\n",
      "\u001b[0;31mIndexError\u001b[0m: index 1109 is out of bounds for axis 0 with size 1080"
     ]
    }
   ],
   "source": [
    "import pyrealsense2 as rs\n",
    "import open3d as o3d\n",
    "import numpy as np\n",
    "from matplotlib import pyplot as plt\n",
    "\n",
    "# image\n",
    "mesh = o3d.io.read_point_cloud(\"../../resources/images/uncalibrated/realsense/raw_2/6.ply\")\n",
    "o3d.visualization.draw_geometries([mesh])\n",
    "\n",
    "# color intrinsics\n",
    "ci = rs.intrinsics()\n",
    "ci.fx = 1377.6448974609375 \n",
    "ci.fy = 1375.7239990234375\n",
    "ci.height = 1080\n",
    "ci.model = rs.distortion.none\n",
    "ci.ppx = 936.4846801757812 \n",
    "ci.ppy = 537.48779296875\n",
    "ci.width = 1920\n",
    "\n",
    "mat = np.zeros((1080, 1920, 3))\n",
    "\n",
    "for point, color in zip(mesh.points, mesh.colors):\n",
    "    coordinate = np.array(rs.rs2_project_point_to_pixel(ci, point), dtype=np.int32)\n",
    "    mat[coordinate] = color\n",
    "\n",
    "plt.imshow(mat)"
   ]
  },
  {
   "cell_type": "markdown",
   "metadata": {},
   "source": [
    "# Generate (pseudo) dataset with calibrated files that are equal sized"
   ]
  },
  {
   "cell_type": "code",
   "execution_count": null,
   "metadata": {},
   "outputs": [],
   "source": [
    "import cv2\n",
    "from matplotlib import pyplot as plt\n",
    "from models.dataset.DatasetHelper import saveImageDataset\n",
    "\n",
    "cal_dir = \"../resources/images/calibrated\"\n",
    "uncal_dir = \"../resources/images/uncalibrated\"\n",
    "zivid_dir = \"zivid\"\n",
    "realsense_dir = \"realsense\"\n",
    "color_dir = \"color\"\n",
    "depth_dir = \"depth\"\n",
    "dataset_file = os.path.join(cal_dir, \"pseudo_calibrated_images.npz\")\n",
    "\n",
    "realsense_color_images = []\n",
    "realsense_depth_images = []\n",
    "zivid_color_images = []\n",
    "zivid_depth_images = []\n",
    "for i in range(33):\n",
    "    filename = str(i) + \".png\"\n",
    "\n",
    "    # input paths\n",
    "    urc_path = os.path.join(uncal_dir, realsense_dir, color_dir, filename)\n",
    "    urd_path = os.path.join(uncal_dir, realsense_dir, depth_dir, filename)\n",
    "    uzc_path = os.path.join(uncal_dir, zivid_dir, color_dir, filename)\n",
    "    uzd_path = os.path.join(uncal_dir, zivid_dir, depth_dir, filename)\n",
    "\n",
    "    # read images\n",
    "    rc = cv2.imread(urc_path)\n",
    "    rd = cv2.imread(urd_path, cv2.IMREAD_GRAYSCALE)\n",
    "    zc = cv2.imread(uzc_path)\n",
    "    zd = cv2.imread(uzd_path, cv2.IMREAD_GRAYSCALE)\n",
    "\n",
    "    if rc is None or rd is None or zc is None or zd is None:\n",
    "        continue\n",
    "\n",
    "    # resize realsense images\n",
    "    rc = cv2.resize(src=rc, dsize=(zc.shape[1], zc.shape[0]))\n",
    "    rd = cv2.resize(src=rd, dsize=(zd.shape[1], zd.shape[0]))\n",
    "\n",
    "    # write resized images\n",
    "    realsense_color_images.append(rc)\n",
    "    realsense_depth_images.append(rd)\n",
    "    zivid_color_images.append(zc)\n",
    "    zivid_depth_images.append(zd)\n",
    "\n",
    "saveImageDataset(\n",
    "    realsense_color_images,\n",
    "    realsense_depth_images,\n",
    "    zivid_color_images, \n",
    "    zivid_depth_images,\n",
    "    dataset_file, \n",
    ")"
   ]
  },
  {
   "cell_type": "markdown",
   "metadata": {},
   "source": [
    "# Open Dataset and visualize images"
   ]
  },
  {
   "cell_type": "code",
   "execution_count": null,
   "metadata": {},
   "outputs": [],
   "source": [
    "from models.dataset.DatasetHelper import openImageDataset\n",
    "from matplotlib import pyplot as plt\n",
    "\n",
    "dataset_file = \"../resources/images/calibrated/dataset_1.npz\"\n",
    "\n",
    "realsenseColor, realsenseDepth, zividColor, zividDepth = openImageDataset(dataset_file)\n",
    "\n",
    "plt.figure()\n",
    "f, axarr = plt.subplots(len(realsenseColor), 4, figsize=(10, 50), gridspec_kw={'width_ratios': [1, 1, 1, 1]})\n",
    "f.tight_layout()\n",
    "\n",
    "for i in range(len(realsenseColor)):\n",
    "    axarr[i][0].imshow(realsenseColor[i])\n",
    "    axarr[i][1].imshow(realsenseDepth[i])\n",
    "    axarr[i][2].imshow(zividColor[i])\n",
    "    axarr[i][3].imshow(zividDepth[i])"
   ]
  }
 ],
 "metadata": {
  "interpreter": {
   "hash": "46d4ebae2278a9ca5dc08c9af3dce6027018e83976386806c42f7a92b1d12ead"
  },
  "kernelspec": {
   "display_name": "Python 3.7.12 64-bit ('depth-denoising': conda)",
   "language": "python",
   "name": "python3"
  },
  "language_info": {
   "codemirror_mode": {
    "name": "ipython",
    "version": 3
   },
   "file_extension": ".py",
   "mimetype": "text/x-python",
   "name": "python",
   "nbconvert_exporter": "python",
   "pygments_lexer": "ipython3",
   "version": "3.8.12"
  },
  "orig_nbformat": 4
 },
 "nbformat": 4,
 "nbformat_minor": 2
}
