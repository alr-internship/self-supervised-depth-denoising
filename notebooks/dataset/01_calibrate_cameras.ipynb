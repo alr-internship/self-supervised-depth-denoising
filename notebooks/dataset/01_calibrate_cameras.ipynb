{
 "cells": [
  {
   "cell_type": "markdown",
   "metadata": {},
   "source": [
    "# Calibrate Cameras\n",
    "\n",
    "0.075 m\n",
    "4x4 aruco a 1/8 bzw 6/8 * 0.075 "
   ]
  },
  {
   "cell_type": "code",
   "execution_count": 29,
   "metadata": {},
   "outputs": [],
   "source": [
    "class Args:\n",
    "    dataset_path = \"../../resources/images/uncalibrated/calibration_dataset.npz\"\n",
    "    marker_length = 5.625\n",
    "    square_length = 7.5\n",
    "\n",
    "args = Args()"
   ]
  },
  {
   "cell_type": "code",
   "execution_count": 30,
   "metadata": {},
   "outputs": [],
   "source": [
    "import numpy as np\n",
    "import cv2\n",
    "from cv2 import aruco\n",
    "from matplotlib import pyplot as plt\n",
    "\n",
    "from models.dataset.DatasetHelper import save_coefficients"
   ]
  },
  {
   "cell_type": "code",
   "execution_count": 1,
   "metadata": {},
   "outputs": [],
   "source": [
    "def calibrate_charuco(images: list):\n",
    "    '''Apply camera calibration using aruco.\n",
    "    The dimensions are in cm.\n",
    "    '''\n",
    "    aruco_dict = aruco.Dictionary_get(aruco.DICT_4X4_50) \n",
    "    board = aruco.CharucoBoard_create(7, 5, args.square_length, args.marker_length, aruco_dict)\n",
    "    arucoParams = aruco.DetectorParameters_create()\n",
    "\n",
    "    image_id = -1\n",
    "    image_ids, corners_list, id_list = [], [], []\n",
    "    # Find the ArUco markers inside each image\n",
    "    for image in images:\n",
    "        image_id = image_id + 1\n",
    "\n",
    "        img_gray = cv2.cvtColor(image, cv2.COLOR_BGR2GRAY)\n",
    "        corners, ids, _ = aruco.detectMarkers(\n",
    "            img_gray, \n",
    "            aruco_dict, \n",
    "            parameters=arucoParams\n",
    "        )\n",
    "\n",
    "        if ids is None: # did not detect any corners\n",
    "            continue\n",
    "\n",
    "        resp, charuco_corners, charuco_ids = aruco.interpolateCornersCharuco(\n",
    "            markerCorners=corners,\n",
    "            markerIds=ids,\n",
    "            image=img_gray,\n",
    "            board=board\n",
    "        )\n",
    "\n",
    "        if charuco_corners is None:\n",
    "            continue\n",
    "        \n",
    "        # If a Charuco board was found, let's collect image/corner points\n",
    "        # Requiring at least 20 squares\n",
    "        if resp > 10:\n",
    "            # Add these corners and ids to our calibration arrays\n",
    "            corners_list.append(charuco_corners)\n",
    "            id_list.append(charuco_ids)\n",
    "            image_ids.append(image_id)\n",
    "\n",
    "        # print markers on image\n",
    "        aruco.drawDetectedMarkers(image, corners, ids)\n",
    "        aruco.drawDetectedCornersCharuco(image, charuco_corners, charuco_ids)\n",
    "\n",
    "\n",
    "    # Actual calibration\n",
    "    _, cm, diffs, rvecs, tvecs = aruco.calibrateCameraCharuco(\n",
    "        charucoCorners=corners_list, \n",
    "        charucoIds=id_list, \n",
    "        board=board, \n",
    "        imageSize=img_gray.shape, \n",
    "        cameraMatrix=None, \n",
    "        distCoeffs=None)\n",
    "    \n",
    "    print(cm)\n",
    "    print(diffs)\n",
    "\n",
    "    return rvecs, tvecs, image_ids"
   ]
  },
  {
   "cell_type": "code",
   "execution_count": 32,
   "metadata": {},
   "outputs": [],
   "source": [
    "def get_homogeneous(rvecs, tvecs):\n",
    "    hom = np.identity(4)\n",
    "    rmat, _ = cv2.Rodrigues(np.reshape(rvecs, -1))\n",
    "    hom[0:3, 0:3] = rmat\n",
    "    hom[0:3, 3] = np.squeeze(tvecs[0])\n",
    "    return hom"
   ]
  },
  {
   "cell_type": "code",
   "execution_count": 33,
   "metadata": {},
   "outputs": [],
   "source": [
    "def inverse_affine(mat):\n",
    "    rot = mat[0:3, 0:3]\n",
    "    trans = mat[0:3, 3]\n",
    "    rot_inv = np.linalg.inv(rot)\n",
    "    trans_inv = -rot_inv @ trans\n",
    "    inv_mat = np.identity(4)\n",
    "    inv_mat[0:3, 0:3] = rot_inv\n",
    "    inv_mat[0:3, 3] = trans_inv\n",
    "    return inv_mat"
   ]
  },
  {
   "cell_type": "markdown",
   "metadata": {},
   "source": [
    "### Calculate & save intr. & extr. matrix"
   ]
  },
  {
   "cell_type": "code",
   "execution_count": 34,
   "metadata": {},
   "outputs": [
    {
     "name": "stdout",
     "output_type": "stream",
     "text": [
      "Mean Transformation Matrix:\n",
      "[[ 9.85694168e-01  1.62607245e-02 -1.54242802e-01  3.25331442e+01]\n",
      " [-1.66598873e-02  9.97242500e-01 -2.26440930e-03 -4.13724632e+01]\n",
      " [ 1.54579174e-01  4.40083588e-03  9.87294301e-01  3.37779913e+01]\n",
      " [ 0.00000000e+00  0.00000000e+00  0.00000000e+00  1.00000000e+00]]\n",
      "Standard Deviation of Transformation Matrizes:\n",
      "[ 0.40798734  0.43069049  0.45885949 32.65662036]\n"
     ]
    }
   ],
   "source": [
    "from matplotlib import pyplot as plt\n",
    "from models.dataset.DatasetHelper import openImageDataset\n",
    "\n",
    "# load images\n",
    "realsenseColor, _, zividColor, _ = openImageDataset(args.dataset_path)\n",
    "\n",
    "# Calibrate \n",
    "rvecs_rs, tvecs_rs, image_ids_rs = calibrate_charuco(realsenseColor)\n",
    "rvecs_ziv, tvecs_ziv, image_ids_ziv = calibrate_charuco(zividColor)\n",
    "\n",
    "# Calculate both homogenous transformation matrixes\n",
    "Ts_rs = []\n",
    "Ts_ziv = []\n",
    "ids = [(i, j)  for i, x in enumerate(image_ids_rs) for j, y in enumerate(image_ids_ziv) if x == y]\n",
    "\n",
    "for idx, (id_rs, id_ziv) in enumerate(ids):\n",
    "    Ts_rs.append(get_homogeneous(rvecs_rs[id_rs], tvecs_rs[id_rs]))\n",
    "    Ts_ziv.append(get_homogeneous(rvecs_ziv[id_ziv], tvecs_ziv[id_ziv]))\n",
    "\n",
    "Ts_ziv_to_rs = []\n",
    "for T_rs, T_ziv in zip(Ts_rs, Ts_ziv):\n",
    "    ex = inverse_affine(T_rs) @ T_ziv\n",
    "    Ts_ziv_to_rs.append(ex)\n",
    "    #print(ex)\n",
    "\n",
    "T_ziv_to_rs = np.mean(Ts_ziv_to_rs, axis=0)\n",
    "Ts_ziv_to_rs = Ts_ziv_to_rs[0]\n",
    "\n",
    "print(\"Mean Transformation Matrix:\")\n",
    "print(T_ziv_to_rs)\n",
    "\n",
    "print(\"Standard Deviation of Transformation Matrizes:\")\n",
    "print(np.std(Ts_ziv_to_rs, axis=0))\n",
    "\n",
    "# plot images\n",
    "f, axarr = plt.subplots(len(ids), 2, figsize=(10, 20))\n",
    "for idx, img_id in enumerate(list(set(image_ids_rs) & set(image_ids_ziv))):\n",
    "    axarr[idx][0].imshow(realsenseColor[img_id])\n",
    "    axarr[idx][1].imshow(zividColor[img_id])\n",
    "\n",
    "# Save transformation matrix into a file\n",
    "# save_coefficients(T_ziv_to_rs, '../../resources/calibrations/calibration.yml')"
   ]
  }
 ],
 "metadata": {
  "interpreter": {
   "hash": "522bbe2e29048e488d8dbb591664569cb2f33d81832cd4a5c40bcbe436ad1b9e"
  },
  "kernelspec": {
   "display_name": "Python 3.7.12 64-bit ('depth-denoising': conda)",
   "name": "python3"
  },
  "language_info": {
   "codemirror_mode": {
    "name": "ipython",
    "version": 3
   },
   "file_extension": ".py",
   "mimetype": "text/x-python",
   "name": "python",
   "nbconvert_exporter": "python",
   "pygments_lexer": "ipython3",
   "version": "3.8.12"
  },
  "orig_nbformat": 4
 },
 "nbformat": 4,
 "nbformat_minor": 2
}
