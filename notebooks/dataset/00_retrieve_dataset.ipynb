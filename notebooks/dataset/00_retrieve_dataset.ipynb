{
 "cells": [
  {
   "cell_type": "markdown",
   "source": [
    "# Retrieve Dataset\n",
    "\n",
    "This notebook is used to capture a dataset.\n",
    "The dataset contains RGB and depth images of both cameras, zivid and realsense.\n",
    "Besides the images, the dataset stores the intrisic camera matrizes and distortion coefficients of both RGB lenses."
   ],
   "metadata": {}
  },
  {
   "cell_type": "code",
   "execution_count": 1,
   "source": [
    "# import dependencies\n",
    "import time\n",
    "import numpy as np\n",
    "from pathlib import Path\n",
    "# import required modules\n",
    "from models.camera_interfaces.real_sense import RealSense\n",
    "from models.camera_interfaces.zivid import Zivid\n",
    "from models.dataset.dataset_container import DatasetContainer"
   ],
   "outputs": [],
   "metadata": {}
  },
  {
   "cell_type": "code",
   "execution_count": 2,
   "source": [
    "resource_path = Path(\"../../resources\")\n",
    "\n",
    "class Args:\n",
    "    picture_amount = 3                  # how many frames to collect\n",
    "    delay = 500                         # delay between exposures in ms\n",
    "    zivid_configuration_path: resource_path / Path(\"calibrations/zivid.yml\") # zivid settings\n",
    "    dataset_path = resource_path / Path(\"images/uncalibrated/dataset_3_4.npz\") # where the captures dataset should be saved\n",
    "args = Args()"
   ],
   "outputs": [],
   "metadata": {}
  },
  {
   "cell_type": "markdown",
   "source": [
    "# Connect to cameras"
   ],
   "metadata": {}
  },
  {
   "cell_type": "code",
   "execution_count": 3,
   "source": [
    "# make sure both instances are destroyed. Otherwise they are still connected to the cameras\n",
    "%reset_selective -f real_sense\n",
    "%reset_selective -f zivid\n",
    "# instantiate and connect to cameras\n",
    "real_sense = RealSense()\n",
    "real_sense.connect()\n",
    "print(\"Connected to realsense camera\")\n",
    "\n",
    "zivid = Zivid()\n",
    "zivid.connect()\n",
    "print(\"Connected to zivid camera\")\n",
    "# zivid.configure_manual(args.zivid_configuration_path)\n",
    "zivid.configure_automatically()\n",
    "\n",
    "print(\"Connected to both cameras\")\n",
    "\n",
    "rs_intrinsics = real_sense.get_camera_matrix_and_distortion()\n",
    "zv_intrinsics = zivid.get_camera_matrix_and_distortion()\n",
    "\n",
    "dataset_container = DatasetContainer()\n",
    "dataset_container.load_from_intrinsics(*rs_intrinsics, *zv_intrinsics)"
   ],
   "outputs": [
    {
     "output_type": "stream",
     "name": "stdout",
     "text": [
      "=============================================================\n",
      "RealSense Configuration\n",
      "camera product line: D400\n",
      "camera product id:   0B07\n",
      "=============================================================\n",
      "Depth Camera Intrinsics\n",
      "Principal Point (ppx ppy):    635.5166625976562 359.2284851074219\n",
      "Focal Length (fx fy):         639.042724609375 639.042724609375\n",
      "Distortion Coeffs:            [0.0, 0.0, 0.0, 0.0, 0.0]\n",
      "Distortion Model:             distortion.brown_conrady\n",
      "HeightxWidth:                 720x1280\n",
      "Color Camera Intrinsics\n",
      "Principal Point (ppx ppy):    936.4846801757812 537.48779296875\n",
      "Focal Length (fx fy):         1377.6448974609375 1375.7239990234375\n",
      "Distortion Coeffs:            [0.0, 0.0, 0.0, 0.0, 0.0]\n",
      "Distortion Model:             distortion.inverse_brown_conrady\n",
      "HeightxWidth:                 1080x1920\n",
      "=============================================================\n",
      "Connected to realsense camera\n",
      "=============================================================\n",
      "Zivid Configuration\n",
      "Color Camera Intrinsics\n",
      "Principal Point (ppx ppy):    951.68 594.779\n",
      "Focal Length (fx fy):         2760.12 2759.78\n",
      "Distortion Coeffs:            [-2.73150e-01  3.54379e-01 -3.44441e-04  1.98413e-04 -3.22515e-01]\n",
      "=============================================================\n",
      "Connected to zivid camera\n",
      "automatically configuring zivid camera settings\n",
      "Connected to both cameras\n"
     ]
    }
   ],
   "metadata": {}
  },
  {
   "cell_type": "markdown",
   "source": [
    "## Collect Pictures"
   ],
   "metadata": {}
  },
  {
   "cell_type": "code",
   "execution_count": 9,
   "source": [
    "# execute this cell to generate and append pairs of images. The images won't be saved.\n",
    "for i in range(args.picture_amount):\n",
    "    rs_frames = real_sense.collect_frame()\n",
    "    zv_frames = zivid.collect_frame()\n",
    "    dataset_container.append(*rs_frames, *zv_frames)\n",
    "\n",
    "    time.sleep(args.delay / 1000.0)\n"
   ],
   "outputs": [
    {
     "output_type": "error",
     "ename": "RuntimeError",
     "evalue": "Frame didn't arrive within 5000",
     "traceback": [
      "\u001b[0;31m---------------------------------------------------------------------------\u001b[0m",
      "\u001b[0;31mRuntimeError\u001b[0m                              Traceback (most recent call last)",
      "\u001b[0;32m/tmp/ipykernel_20172/427096500.py\u001b[0m in \u001b[0;36m<module>\u001b[0;34m\u001b[0m\n\u001b[1;32m      1\u001b[0m \u001b[0;31m# execute this cell to generate and append pairs of images. The images won't be saved.\u001b[0m\u001b[0;34m\u001b[0m\u001b[0;34m\u001b[0m\u001b[0;34m\u001b[0m\u001b[0m\n\u001b[1;32m      2\u001b[0m \u001b[0;32mfor\u001b[0m \u001b[0mi\u001b[0m \u001b[0;32min\u001b[0m \u001b[0mrange\u001b[0m\u001b[0;34m(\u001b[0m\u001b[0margs\u001b[0m\u001b[0;34m.\u001b[0m\u001b[0mpicture_amount\u001b[0m\u001b[0;34m)\u001b[0m\u001b[0;34m:\u001b[0m\u001b[0;34m\u001b[0m\u001b[0;34m\u001b[0m\u001b[0m\n\u001b[0;32m----> 3\u001b[0;31m     \u001b[0mrs_frames\u001b[0m \u001b[0;34m=\u001b[0m \u001b[0mreal_sense\u001b[0m\u001b[0;34m.\u001b[0m\u001b[0mcollect_frame\u001b[0m\u001b[0;34m(\u001b[0m\u001b[0;34m)\u001b[0m\u001b[0;34m\u001b[0m\u001b[0;34m\u001b[0m\u001b[0m\n\u001b[0m\u001b[1;32m      4\u001b[0m     \u001b[0mzv_frames\u001b[0m \u001b[0;34m=\u001b[0m \u001b[0mzivid\u001b[0m\u001b[0;34m.\u001b[0m\u001b[0mcollect_frame\u001b[0m\u001b[0;34m(\u001b[0m\u001b[0;34m)\u001b[0m\u001b[0;34m\u001b[0m\u001b[0;34m\u001b[0m\u001b[0m\n\u001b[1;32m      5\u001b[0m     \u001b[0mdataset_container\u001b[0m\u001b[0;34m.\u001b[0m\u001b[0mappend\u001b[0m\u001b[0;34m(\u001b[0m\u001b[0;34m*\u001b[0m\u001b[0mrs_frames\u001b[0m\u001b[0;34m,\u001b[0m \u001b[0;34m*\u001b[0m\u001b[0mzv_frames\u001b[0m\u001b[0;34m)\u001b[0m\u001b[0;34m\u001b[0m\u001b[0;34m\u001b[0m\u001b[0m\n",
      "\u001b[0;32m~/Documents/self-supervised-depth-denoising/src/models/camera_interfaces/real_sense.py\u001b[0m in \u001b[0;36mcollect_frame\u001b[0;34m(self)\u001b[0m\n\u001b[1;32m     94\u001b[0m         \"\"\"\n\u001b[1;32m     95\u001b[0m         \u001b[0;31m# get frames from camera\u001b[0m\u001b[0;34m\u001b[0m\u001b[0;34m\u001b[0m\u001b[0;34m\u001b[0m\u001b[0m\n\u001b[0;32m---> 96\u001b[0;31m         \u001b[0mframes\u001b[0m \u001b[0;34m=\u001b[0m \u001b[0mself\u001b[0m\u001b[0;34m.\u001b[0m\u001b[0mpipeline\u001b[0m\u001b[0;34m.\u001b[0m\u001b[0mwait_for_frames\u001b[0m\u001b[0;34m(\u001b[0m\u001b[0;34m)\u001b[0m\u001b[0;34m\u001b[0m\u001b[0;34m\u001b[0m\u001b[0m\n\u001b[0m\u001b[1;32m     97\u001b[0m         \u001b[0mframes\u001b[0m \u001b[0;34m=\u001b[0m \u001b[0mself\u001b[0m\u001b[0;34m.\u001b[0m\u001b[0malign\u001b[0m\u001b[0;34m.\u001b[0m\u001b[0mprocess\u001b[0m\u001b[0;34m(\u001b[0m\u001b[0mframes\u001b[0m\u001b[0;34m)\u001b[0m\u001b[0;34m\u001b[0m\u001b[0;34m\u001b[0m\u001b[0m\n\u001b[1;32m     98\u001b[0m \u001b[0;34m\u001b[0m\u001b[0m\n",
      "\u001b[0;31mRuntimeError\u001b[0m: Frame didn't arrive within 5000"
     ]
    }
   ],
   "metadata": {}
  },
  {
   "cell_type": "markdown",
   "source": [
    "## Save Picture-Pairs"
   ],
   "metadata": {}
  },
  {
   "cell_type": "code",
   "execution_count": 10,
   "source": [
    "print(\"Pictures Retrieved\")\n",
    "\n",
    "dataset_container.save(args.dataset_path)\n",
    "print(f\"Dataset saved to {args.dataset_path}\")"
   ],
   "outputs": [
    {
     "output_type": "stream",
     "name": "stdout",
     "text": [
      "Pictures Retrieved\n"
     ]
    }
   ],
   "metadata": {}
  }
 ],
 "metadata": {
  "interpreter": {
   "hash": "f6c772e1b5366734256a9870d5f099b9d4fdfd16c1a18810c4324b8e7acb8e99"
  },
  "kernelspec": {
   "name": "python3",
   "display_name": "Python 3.8.12 64-bit ('depth-denoising_dataset': conda)"
  },
  "language_info": {
   "codemirror_mode": {
    "name": "ipython",
    "version": 3
   },
   "file_extension": ".py",
   "mimetype": "text/x-python",
   "name": "python",
   "nbconvert_exporter": "python",
   "pygments_lexer": "ipython3",
   "version": "3.8.12"
  },
  "orig_nbformat": 4
 },
 "nbformat": 4,
 "nbformat_minor": 2
}