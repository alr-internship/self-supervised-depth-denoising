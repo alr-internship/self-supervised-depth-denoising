{
 "cells": [
  {
   "cell_type": "markdown",
   "metadata": {},
   "source": [
    "# Retrieve Dataset\n",
    "\n",
    "This notebook is used to capture a dataset.\n",
    "The dataset contains RGB and depth images of both cameras, zivid and realsense.\n",
    "Besides the images, the dataset stores the intrisic camera matrizes and distortion coefficients of both RGB lenses."
   ]
  },
  {
   "cell_type": "code",
   "execution_count": null,
   "metadata": {},
   "outputs": [],
   "source": [
    "# import dependencies\n",
    "import time\n",
    "import numpy as np\n",
    "from pathlib import Path\n",
    "# import required modules\n",
    "from models.camera_interfaces.real_sense import RealSense\n",
    "from models.camera_interfaces.zivid import Zivid\n",
    "from models.dataset.dataset_interface import save_dataset"
   ]
  },
  {
   "cell_type": "code",
   "execution_count": null,
   "metadata": {},
   "outputs": [],
   "source": [
    "resource_path = Path(\"../../resources\")\n",
    "\n",
    "class Args:\n",
    "    picture_amount = 3                  # how many frames to collect\n",
    "    delay = 500                         # delay between exposures in ms\n",
    "    zivid_configuration_path: resource_path / Path(\"calibrations/zivid.yml\") # zivid settings\n",
    "    dataset_path = resource_path / Path(\"images/uncalibrated/dataset_0.npz\") # where the captures dataset should be saved\n",
    "args = Args()"
   ]
  },
  {
   "cell_type": "markdown",
   "metadata": {},
   "source": [
    "# Connect to cameras"
   ]
  },
  {
   "cell_type": "code",
   "execution_count": null,
   "metadata": {},
   "outputs": [],
   "source": [
    "# make sure both instances are destroyed. Otherwise they are still connected to the cameras\n",
    "%reset_selective -f real_sense\n",
    "%reset_selective -f zivid\n",
    "# instantiate and connect to cameras\n",
    "real_sense = RealSense()\n",
    "RealSense.connect()\n",
    "\n",
    "zivid = Zivid()\n",
    "zivid.connect()\n",
    "zivid.configure_manual(args.zivid_configuration_path)\n",
    "\n",
    "print(\"Connected to both cameras\")\n",
    "\n",
    "rs_cm, rs_dc = real_sense.get_camera_matrix_and_distortion()\n",
    "zv_cm, zv_dc = zivid.get_camera_matrix_and_distortion()"
   ]
  },
  {
   "cell_type": "markdown",
   "metadata": {},
   "source": [
    "## Collect Pictures"
   ]
  },
  {
   "cell_type": "code",
   "execution_count": null,
   "metadata": {},
   "outputs": [],
   "source": [
    "pictures = []\n",
    "\n",
    "for i in range(args.picture_amount):\n",
    "    rl_depth_image, rl_color_image = real_sense.collect_frame()\n",
    "    z_depth_image, z_color_image = zivid.collect_frame()\n",
    "    pictures.append((rl_depth_image, rl_color_image, z_depth_image, z_color_image))\n",
    "    time.sleep(args.delay / 1000.0)\n",
    "\n",
    "rs_rgb, rs_depth, zv_rgb, zv_depth = zip(*pictures)\n",
    "\n",
    "print(\"Pictures Retrieved\")\n",
    "\n",
    "save_dataset(\n",
    "    dataset_path=args.dataset_path, \n",
    "    realsense_color=rs_rgb,\n",
    "    realsense_depth=rs_depth,\n",
    "    realsense_cm=rs_cm,\n",
    "    realsense_dc=rs_dc,\n",
    "    zivid_color=zv_rgb,\n",
    "    zivid_depth=zv_depth,\n",
    "    zivid_cm=zv_cm,\n",
    "    zivid_dc=zv_dc\n",
    ")"
   ]
  }
 ],
 "metadata": {
  "interpreter": {
   "hash": "522bbe2e29048e488d8dbb591664569cb2f33d81832cd4a5c40bcbe436ad1b9e"
  },
  "kernelspec": {
   "display_name": "Python 3.7.12 64-bit ('depth-denoising': conda)",
   "name": "python3"
  },
  "language_info": {
   "codemirror_mode": {
    "name": "ipython",
    "version": 3
   },
   "file_extension": ".py",
   "mimetype": "text/x-python",
   "name": "python",
   "nbconvert_exporter": "python",
   "pygments_lexer": "ipython3",
   "version": "3.8.12"
  },
  "orig_nbformat": 4
 },
 "nbformat": 4,
 "nbformat_minor": 2
}
