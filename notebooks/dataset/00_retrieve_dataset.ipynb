{
 "cells": [
  {
   "cell_type": "markdown",
   "metadata": {},
   "source": [
    "# Retrieve Dataset"
   ]
  },
  {
   "cell_type": "code",
   "execution_count": null,
   "metadata": {},
   "outputs": [],
   "source": [
    "class Args:\n",
    "    picture_amount = 3                  # how many frames to collect\n",
    "    delay = 500                         # delay in ms\n",
    "    dataset_path = \"../../resources/images/uncalibrated/dataset_0.npz\"\n",
    "args = Args()"
   ]
  },
  {
   "cell_type": "code",
   "execution_count": null,
   "metadata": {},
   "outputs": [],
   "source": [
    "# import dependencies\n",
    "from matplotlib import pyplot as plt\n",
    "import time\n",
    "# import required modules\n",
    "from models.camera_interfaces.RealSense import RealSense\n",
    "from models.camera_interfaces.Zivid import Zivid\n",
    "from models.dataset.DatasetHelper import saveImageDataset"
   ]
  },
  {
   "cell_type": "code",
   "execution_count": null,
   "metadata": {},
   "outputs": [],
   "source": [
    "%reset_selective -f real_sense\n",
    "%reset_selective -f zivid\n",
    "# instantiate and connect to cameras\n",
    "real_sense = RealSense()\n",
    "RealSense.connect()\n",
    "zivid = Zivid()\n",
    "zivid.connect()"
   ]
  },
  {
   "cell_type": "markdown",
   "metadata": {},
   "source": [
    "## Collect Pictures"
   ]
  },
  {
   "cell_type": "code",
   "execution_count": null,
   "metadata": {},
   "outputs": [],
   "source": [
    "pictures = []\n",
    "\n",
    "for i in range(args.picture_amount):\n",
    "    rl_depth_image, rl_color_image = real_sense.collect_frame()\n",
    "    z_depth_image, z_color_image = zivid.collect_frame()\n",
    "    pictures.append((rl_depth_image, rl_color_image, z_depth_image, z_color_image))\n",
    "    time.sleep(args.delay / 1000.0)\n",
    "\n",
    "print(\"Pictures Retrieved\")\n",
    "saveImageDataset(datasetPath=args.dataset_path, *zip(*pictures))"
   ]
  }
 ],
 "metadata": {
  "interpreter": {
   "hash": "522bbe2e29048e488d8dbb591664569cb2f33d81832cd4a5c40bcbe436ad1b9e"
  },
  "kernelspec": {
   "display_name": "Python 3.7.12 64-bit ('depth-denoising': conda)",
   "name": "python3"
  },
  "language_info": {
   "codemirror_mode": {
    "name": "ipython",
    "version": 3
   },
   "file_extension": ".py",
   "mimetype": "text/x-python",
   "name": "python",
   "nbconvert_exporter": "python",
   "pygments_lexer": "ipython3",
   "version": "3.8.12"
  },
  "orig_nbformat": 4
 },
 "nbformat": 4,
 "nbformat_minor": 2
}
