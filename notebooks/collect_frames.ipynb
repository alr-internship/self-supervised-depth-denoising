{
 "cells": [
  {
   "cell_type": "markdown",
   "source": [
    "# Image Collection and Printout for RealSense and Zivid Cameras"
   ],
   "metadata": {}
  },
  {
   "cell_type": "markdown",
   "source": [
    "## Prerequiremens"
   ],
   "metadata": {}
  },
  {
   "cell_type": "code",
   "execution_count": null,
   "source": [
    "# import dependencies\n",
    "from matplotlib import pyplot as plt"
   ],
   "outputs": [],
   "metadata": {}
  },
  {
   "cell_type": "code",
   "execution_count": null,
   "source": [
    "# import required models\n",
    "import sys\n",
    "sys.path.append(\"../src\")\n",
    "from models import camera_interfaces\n",
    "from visualization.visualize_images import get_visualized_depth_image, convert_bgr_to_grb"
   ],
   "outputs": [],
   "metadata": {}
  },
  {
   "cell_type": "markdown",
   "source": [
    "## Instantiate Camera Interfaces"
   ],
   "metadata": {}
  },
  {
   "cell_type": "code",
   "execution_count": null,
   "source": [
    "real_sense = camera_interfaces.RealSense() # FIXME: cant be reinstantiated"
   ],
   "outputs": [],
   "metadata": {}
  },
  {
   "cell_type": "markdown",
   "source": [
    "## RealSense Images"
   ],
   "metadata": {}
  },
  {
   "cell_type": "code",
   "execution_count": null,
   "source": [
    "# collect image from real sense\n",
    "depth_image, color_image = real_sense.collect_frame()\n",
    "\n",
    "# check if depth frame valid\n",
    "if depth_image is None or color_image is None:\n",
    "    raise Exception(\"got invalid depth or color image\")\n",
    "\n",
    "# visualize depth frame\n",
    "depth_colormap = get_visualized_depth_image(depth_image=depth_image)\n",
    "\n",
    "f, axarr = plt.subplots(1, 2, figsize=(45, 45)) # make figures larger\n",
    "axarr[0].imshow(depth_colormap)\n",
    "axarr[1].imshow(convert_bgr_to_grb(image=color_image))"
   ],
   "outputs": [],
   "metadata": {}
  },
  {
   "cell_type": "markdown",
   "source": [
    "## Zivid Images"
   ],
   "metadata": {}
  }
 ],
 "metadata": {
  "orig_nbformat": 4,
  "language_info": {
   "name": "python",
   "version": "3.9.7",
   "mimetype": "text/x-python",
   "codemirror_mode": {
    "name": "ipython",
    "version": 3
   },
   "pygments_lexer": "ipython3",
   "nbconvert_exporter": "python",
   "file_extension": ".py"
  },
  "kernelspec": {
   "name": "python3",
   "display_name": "Python 3.10.0 64-bit ('depth-denoising': conda)"
  },
  "interpreter": {
   "hash": "522bbe2e29048e488d8dbb591664569cb2f33d81832cd4a5c40bcbe436ad1b9e"
  }
 },
 "nbformat": 4,
 "nbformat_minor": 2
}