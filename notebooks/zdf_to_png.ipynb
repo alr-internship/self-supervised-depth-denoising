{
 "cells": [
  {
   "cell_type": "markdown",
   "metadata": {},
   "source": [
    "\n",
    "### Convert zdf files into png files to calculate transformation matrix"
   ]
  },
  {
   "cell_type": "code",
   "execution_count": 2,
   "metadata": {},
   "outputs": [
    {
     "name": "stdout",
     "output_type": "stream",
     "text": [
      "../resources/images/uncalibrated/zivid/color/8.png ../resources/images/uncalibrated/zivid/depth/8.png\n",
      "../resources/images/uncalibrated/zivid/color/24.png ../resources/images/uncalibrated/zivid/depth/24.png\n",
      "../resources/images/uncalibrated/zivid/color/32.png ../resources/images/uncalibrated/zivid/depth/32.png\n",
      "../resources/images/uncalibrated/zivid/color/5.png ../resources/images/uncalibrated/zivid/depth/5.png\n",
      "../resources/images/uncalibrated/zivid/color/10.png ../resources/images/uncalibrated/zivid/depth/10.png\n",
      "../resources/images/uncalibrated/zivid/color/28.png ../resources/images/uncalibrated/zivid/depth/28.png\n",
      "../resources/images/uncalibrated/zivid/color/23.png ../resources/images/uncalibrated/zivid/depth/23.png\n",
      "../resources/images/uncalibrated/zivid/color/27.png ../resources/images/uncalibrated/zivid/depth/27.png\n",
      "../resources/images/uncalibrated/zivid/color/4.png ../resources/images/uncalibrated/zivid/depth/4.png\n",
      "../resources/images/uncalibrated/zivid/color/21.png ../resources/images/uncalibrated/zivid/depth/21.png\n",
      "../resources/images/uncalibrated/zivid/color/25.png ../resources/images/uncalibrated/zivid/depth/25.png\n",
      "../resources/images/uncalibrated/zivid/color/15.png ../resources/images/uncalibrated/zivid/depth/15.png\n",
      "../resources/images/uncalibrated/zivid/color/0.png ../resources/images/uncalibrated/zivid/depth/0.png\n",
      "../resources/images/uncalibrated/zivid/color/2.png ../resources/images/uncalibrated/zivid/depth/2.png\n",
      "../resources/images/uncalibrated/zivid/color/29.png ../resources/images/uncalibrated/zivid/depth/29.png\n",
      "../resources/images/uncalibrated/zivid/color/20.png ../resources/images/uncalibrated/zivid/depth/20.png\n",
      "../resources/images/uncalibrated/zivid/color/11.png ../resources/images/uncalibrated/zivid/depth/11.png\n",
      "../resources/images/uncalibrated/zivid/color/7.png ../resources/images/uncalibrated/zivid/depth/7.png\n",
      "../resources/images/uncalibrated/zivid/color/9.png ../resources/images/uncalibrated/zivid/depth/9.png\n",
      "../resources/images/uncalibrated/zivid/color/16.png ../resources/images/uncalibrated/zivid/depth/16.png\n",
      "../resources/images/uncalibrated/zivid/color/13.png ../resources/images/uncalibrated/zivid/depth/13.png\n",
      "../resources/images/uncalibrated/zivid/color/3.png ../resources/images/uncalibrated/zivid/depth/3.png\n",
      "../resources/images/uncalibrated/zivid/color/14.png ../resources/images/uncalibrated/zivid/depth/14.png\n",
      "../resources/images/uncalibrated/zivid/color/18.png ../resources/images/uncalibrated/zivid/depth/18.png\n",
      "../resources/images/uncalibrated/zivid/color/30.png ../resources/images/uncalibrated/zivid/depth/30.png\n",
      "../resources/images/uncalibrated/zivid/color/6.png ../resources/images/uncalibrated/zivid/depth/6.png\n",
      "../resources/images/uncalibrated/zivid/color/26.png ../resources/images/uncalibrated/zivid/depth/26.png\n",
      "../resources/images/uncalibrated/zivid/color/19.png ../resources/images/uncalibrated/zivid/depth/19.png\n",
      "../resources/images/uncalibrated/zivid/color/1.png ../resources/images/uncalibrated/zivid/depth/1.png\n",
      "../resources/images/uncalibrated/zivid/color/12.png ../resources/images/uncalibrated/zivid/depth/12.png\n",
      "../resources/images/uncalibrated/zivid/color/22.png ../resources/images/uncalibrated/zivid/depth/22.png\n",
      "../resources/images/uncalibrated/zivid/color/17.png ../resources/images/uncalibrated/zivid/depth/17.png\n",
      "../resources/images/uncalibrated/zivid/color/31.png ../resources/images/uncalibrated/zivid/depth/31.png\n"
     ]
    }
   ],
   "source": [
    "import os\n",
    "import sys\n",
    "sys.path.append(\"../src\")\n",
    "from models.camera_interfaces.Zivid import Zivid\n",
    "\n",
    "dir = '../resources/images/uncalibrated/zivid/'\n",
    "raw_dir = dir + \"raw/\"\n",
    "color_dir = dir + \"color/\"\n",
    "depth_dir = dir + \"depth/\"\n",
    "\n",
    "zivid = Zivid()\n",
    "for file_name in os.listdir(raw_dir):\n",
    "    zdf_file_path = os.path.join(raw_dir, file_name)\n",
    "    base_name = file_name.split(\".\")[0]\n",
    "    color_file_path = os.path.join(color_dir, base_name + '.png')\n",
    "    depth_file_path = os.path.join(depth_dir, base_name + '.png')\n",
    "    if os.path.isfile(zdf_file_path):\n",
    "        zivid._convert_zdf_to_png(zdf_file_path, color_file_path, depth_file_path)"
   ]
  },
  {
   "cell_type": "code",
   "execution_count": null,
   "metadata": {},
   "outputs": [],
   "source": []
  }
 ],
 "metadata": {
  "interpreter": {
   "hash": "46d4ebae2278a9ca5dc08c9af3dce6027018e83976386806c42f7a92b1d12ead"
  },
  "kernelspec": {
   "display_name": "Python 3.7.12 64-bit ('depth-denoising': conda)",
   "language": "python",
   "name": "python3"
  },
  "language_info": {
   "codemirror_mode": {
    "name": "ipython",
    "version": 3
   },
   "file_extension": ".py",
   "mimetype": "text/x-python",
   "name": "python",
   "nbconvert_exporter": "python",
   "pygments_lexer": "ipython3",
   "version": "3.7.12"
  },
  "orig_nbformat": 4
 },
 "nbformat": 4,
 "nbformat_minor": 2
}
